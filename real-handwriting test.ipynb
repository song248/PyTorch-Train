{
 "cells": [
  {
   "cell_type": "code",
   "execution_count": 1,
   "id": "adcf4cec",
   "metadata": {
    "ExecuteTime": {
     "end_time": "2022-03-17T07:28:52.102685Z",
     "start_time": "2022-03-17T07:28:51.769968Z"
    }
   },
   "outputs": [
    {
     "name": "stdout",
     "output_type": "stream",
     "text": [
      "Thu Mar 17 16:28:51 2022       \n",
      "+-----------------------------------------------------------------------------+\n",
      "| NVIDIA-SMI 460.91.03    Driver Version: 460.91.03    CUDA Version: 11.2     |\n",
      "|-------------------------------+----------------------+----------------------+\n",
      "| GPU  Name        Persistence-M| Bus-Id        Disp.A | Volatile Uncorr. ECC |\n",
      "| Fan  Temp  Perf  Pwr:Usage/Cap|         Memory-Usage | GPU-Util  Compute M. |\n",
      "|                               |                      |               MIG M. |\n",
      "|===============================+======================+======================|\n",
      "|   0  GeForce RTX 3090    On   | 00000000:19:00.0 Off |                  N/A |\n",
      "| 30%   31C    P8    18W / 350W |      5MiB / 24268MiB |      0%      Default |\n",
      "|                               |                      |                  N/A |\n",
      "+-------------------------------+----------------------+----------------------+\n",
      "|   1  GeForce RTX 3090    On   | 00000000:1A:00.0 Off |                  N/A |\n",
      "| 30%   38C    P8    18W / 350W |  14403MiB / 24268MiB |      0%      Default |\n",
      "|                               |                      |                  N/A |\n",
      "+-------------------------------+----------------------+----------------------+\n",
      "|   2  GeForce RTX 3090    On   | 00000000:67:00.0 Off |                  N/A |\n",
      "| 49%   54C    P0    72W / 350W |      5MiB / 24268MiB |      0%      Default |\n",
      "|                               |                      |                  N/A |\n",
      "+-------------------------------+----------------------+----------------------+\n",
      "|   3  GeForce RTX 3090    On   | 00000000:68:00.0 Off |                  N/A |\n",
      "| 30%   44C    P8    23W / 350W |     19MiB / 24265MiB |      0%      Default |\n",
      "|                               |                      |                  N/A |\n",
      "+-------------------------------+----------------------+----------------------+\n",
      "                                                                               \n",
      "+-----------------------------------------------------------------------------+\n",
      "| Processes:                                                                  |\n",
      "|  GPU   GI   CI        PID   Type   Process name                  GPU Memory |\n",
      "|        ID   ID                                                   Usage      |\n",
      "|=============================================================================|\n",
      "|    0   N/A  N/A      1456      G   /usr/lib/xorg/Xorg                  4MiB |\n",
      "|    1   N/A  N/A      1456      G   /usr/lib/xorg/Xorg                  4MiB |\n",
      "|    1   N/A  N/A    213910      C   ...nda3/envs/song/bin/python    14395MiB |\n",
      "|    2   N/A  N/A      1456      G   /usr/lib/xorg/Xorg                  4MiB |\n",
      "|    3   N/A  N/A      1456      G   /usr/lib/xorg/Xorg                  9MiB |\n",
      "|    3   N/A  N/A      1652      G   /usr/bin/gnome-shell                8MiB |\n",
      "+-----------------------------------------------------------------------------+\n"
     ]
    }
   ],
   "source": [
    "!nvidia-smi"
   ]
  },
  {
   "cell_type": "code",
   "execution_count": 2,
   "id": "59caaa6d",
   "metadata": {
    "ExecuteTime": {
     "end_time": "2022-03-17T07:28:52.107734Z",
     "start_time": "2022-03-17T07:28:52.104897Z"
    }
   },
   "outputs": [],
   "source": [
    "import os\n",
    "os.environ[\"CUDA_DEVICE_ORDER\"] = \"PCI_BUS_ID\"\n",
    "os.environ[\"CUDA_VISIBLE_DEVICES\"] = \"2\""
   ]
  },
  {
   "cell_type": "code",
   "execution_count": 3,
   "id": "dd594c34",
   "metadata": {
    "ExecuteTime": {
     "end_time": "2022-03-17T07:28:52.797173Z",
     "start_time": "2022-03-17T07:28:52.110893Z"
    }
   },
   "outputs": [
    {
     "name": "stdout",
     "output_type": "stream",
     "text": [
      "Device: cuda\n",
      "Current cuda device: 0\n",
      "Count of using GPUs: 1\n"
     ]
    }
   ],
   "source": [
    "import torch\n",
    "\n",
    "device = torch.device(\"cuda\" if torch.cuda.is_available() else \"cpu\")\n",
    "\n",
    "print('Device:', device)\n",
    "print('Current cuda device:', torch.cuda.current_device())\n",
    "print('Count of using GPUs:', torch.cuda.device_count())"
   ]
  },
  {
   "cell_type": "markdown",
   "id": "37b8a4a6",
   "metadata": {},
   "source": [
    "## Model"
   ]
  },
  {
   "cell_type": "code",
   "execution_count": 4,
   "id": "4d611508",
   "metadata": {
    "ExecuteTime": {
     "end_time": "2022-03-17T07:28:52.800714Z",
     "start_time": "2022-03-17T07:28:52.798664Z"
    }
   },
   "outputs": [],
   "source": [
    "import torch\n",
    "import torch.nn as nn"
   ]
  },
  {
   "cell_type": "code",
   "execution_count": 5,
   "id": "d1a55218",
   "metadata": {
    "ExecuteTime": {
     "end_time": "2022-03-17T07:28:52.926903Z",
     "start_time": "2022-03-17T07:28:52.801967Z"
    }
   },
   "outputs": [],
   "source": [
    "import torchvision.datasets as dsets\n",
    "import torchvision.transforms as transforms\n",
    "import torch.nn.init"
   ]
  },
  {
   "cell_type": "code",
   "execution_count": 6,
   "id": "74e54de9",
   "metadata": {
    "ExecuteTime": {
     "end_time": "2022-03-17T07:28:52.931173Z",
     "start_time": "2022-03-17T07:28:52.928357Z"
    }
   },
   "outputs": [],
   "source": [
    "# GPU를 사용 가능하다면 device 값이 cuda가 되고, 아니라면 cpu\n",
    "device = 'cuda' if torch.cuda.is_available() else 'cpu'\n",
    "\n",
    "# 랜덤 시드 고정\n",
    "torch.manual_seed(777)\n",
    "\n",
    "# GPU 사용 가능일 경우 랜덤 시드 고정\n",
    "if device == 'cuda':\n",
    "    torch.cuda.manual_seed_all(777)"
   ]
  },
  {
   "cell_type": "code",
   "execution_count": 7,
   "id": "595f5997",
   "metadata": {
    "ExecuteTime": {
     "end_time": "2022-03-17T07:28:52.934923Z",
     "start_time": "2022-03-17T07:28:52.932515Z"
    }
   },
   "outputs": [
    {
     "name": "stdout",
     "output_type": "stream",
     "text": [
      "cuda\n",
      "GPU usage>> True\n"
     ]
    }
   ],
   "source": [
    "print(device)\n",
    "print(\"GPU usage>>\", torch.cuda.is_available())"
   ]
  },
  {
   "cell_type": "code",
   "execution_count": 8,
   "id": "b2ec18ce",
   "metadata": {
    "ExecuteTime": {
     "end_time": "2022-03-17T07:28:52.938041Z",
     "start_time": "2022-03-17T07:28:52.936257Z"
    }
   },
   "outputs": [],
   "source": [
    "# 학습에 사용할 파라미터\n",
    "learning_rate = 0.001\n",
    "training_epochs = 20\n",
    "batch_size = 100"
   ]
  },
  {
   "cell_type": "code",
   "execution_count": 9,
   "id": "38c166c5",
   "metadata": {
    "ExecuteTime": {
     "end_time": "2022-03-17T07:28:53.042946Z",
     "start_time": "2022-03-17T07:28:52.940557Z"
    }
   },
   "outputs": [],
   "source": [
    "# 데이터로더를 사용하여 데이터를 다루기 위해서 데이터셋을 정의\n",
    "mnist_train = dsets.MNIST(root='MNIST_data/', # 다운로드 경로 지정\n",
    "                          train=True, # True를 지정하면 훈련 데이터로 다운로드\n",
    "                          transform=transforms.ToTensor(), # 텐서로 변환\n",
    "                          download=True)\n",
    "\n",
    "mnist_test = dsets.MNIST(root='MNIST_data/', # 다운로드 경로 지정\n",
    "                         train=False, # False를 지정하면 테스트 데이터로 다운로드\n",
    "                         transform=transforms.ToTensor(), # 텐서로 변환\n",
    "                         download=True)"
   ]
  },
  {
   "cell_type": "code",
   "execution_count": 10,
   "id": "59b40d40",
   "metadata": {
    "ExecuteTime": {
     "end_time": "2022-03-17T07:28:53.050252Z",
     "start_time": "2022-03-17T07:28:53.045859Z"
    }
   },
   "outputs": [],
   "source": [
    "# 데이터로더를 사용하여 배치 크기를 지정\n",
    "data_loader = torch.utils.data.DataLoader(dataset=mnist_train,\n",
    "                                          batch_size=batch_size,\n",
    "                                          shuffle=True,\n",
    "                                          drop_last=True)"
   ]
  },
  {
   "cell_type": "code",
   "execution_count": 11,
   "id": "618a3f44",
   "metadata": {
    "ExecuteTime": {
     "end_time": "2022-03-17T07:28:53.062094Z",
     "start_time": "2022-03-17T07:28:53.052927Z"
    }
   },
   "outputs": [],
   "source": [
    "# 클래스로 모델을 설계\n",
    "class CNN(torch.nn.Module):\n",
    "\n",
    "    def __init__(self):\n",
    "        super(CNN, self).__init__()\n",
    "        # 첫번째층\n",
    "        # ImgIn shape=(?, 28, 28, 1)\n",
    "        #    Conv     -> (?, 28, 28, 32)\n",
    "        #    Pool     -> (?, 14, 14, 32)\n",
    "        self.layer1 = torch.nn.Sequential(\n",
    "            torch.nn.Conv2d(1, 32, kernel_size=3, stride=1, padding=1),\n",
    "            torch.nn.ReLU(),\n",
    "            torch.nn.MaxPool2d(kernel_size=2, stride=2)\n",
    "        )\n",
    "\n",
    "        # 두번째층\n",
    "        # ImgIn shape=(?, 14, 14, 32)\n",
    "        #    Conv      ->(?, 14, 14, 64)\n",
    "        #    Pool      ->(?, 7, 7, 64)\n",
    "        self.layer2 = torch.nn.Sequential(\n",
    "            torch.nn.Conv2d(32, 64, kernel_size=3, stride=1, padding=1),\n",
    "            torch.nn.ReLU(),\n",
    "            torch.nn.MaxPool2d(kernel_size=2, stride=2)\n",
    "        )\n",
    "\n",
    "        # 전결합층 7x7x64 inputs -> 10 outputs\n",
    "        self.fc = torch.nn.Linear(7 * 7 * 64, 10, bias=True)\n",
    "\n",
    "        # 전결합층 한정으로 가중치 초기화\n",
    "        torch.nn.init.xavier_uniform_(self.fc.weight)\n",
    "\n",
    "    def forward(self, x):\n",
    "        out = self.layer1(x)\n",
    "        out = self.layer2(out)\n",
    "        out = out.view(out.size(0), -1)   # 전결합층을 위해서 Flatten\n",
    "        out = self.fc(out)\n",
    "        return out"
   ]
  },
  {
   "cell_type": "code",
   "execution_count": 12,
   "id": "63201f92",
   "metadata": {
    "ExecuteTime": {
     "end_time": "2022-03-17T07:28:56.476102Z",
     "start_time": "2022-03-17T07:28:53.064806Z"
    }
   },
   "outputs": [
    {
     "data": {
      "text/plain": [
       "CNN(\n",
       "  (layer1): Sequential(\n",
       "    (0): Conv2d(1, 32, kernel_size=(3, 3), stride=(1, 1), padding=(1, 1))\n",
       "    (1): ReLU()\n",
       "    (2): MaxPool2d(kernel_size=2, stride=2, padding=0, dilation=1, ceil_mode=False)\n",
       "  )\n",
       "  (layer2): Sequential(\n",
       "    (0): Conv2d(32, 64, kernel_size=(3, 3), stride=(1, 1), padding=(1, 1))\n",
       "    (1): ReLU()\n",
       "    (2): MaxPool2d(kernel_size=2, stride=2, padding=0, dilation=1, ceil_mode=False)\n",
       "  )\n",
       "  (fc): Linear(in_features=3136, out_features=10, bias=True)\n",
       ")"
      ]
     },
     "execution_count": 12,
     "metadata": {},
     "output_type": "execute_result"
    }
   ],
   "source": [
    "# CNN 모델 정의\n",
    "model = CNN().to(device)\n",
    "model.eval()"
   ]
  },
  {
   "cell_type": "code",
   "execution_count": 13,
   "id": "fcca3ef1",
   "metadata": {
    "ExecuteTime": {
     "end_time": "2022-03-17T07:28:57.262750Z",
     "start_time": "2022-03-17T07:28:56.477282Z"
    }
   },
   "outputs": [
    {
     "name": "stdout",
     "output_type": "stream",
     "text": [
      "----------------------------------------------------------------\n",
      "        Layer (type)               Output Shape         Param #\n",
      "================================================================\n",
      "            Conv2d-1           [-1, 32, 28, 28]             320\n",
      "              ReLU-2           [-1, 32, 28, 28]               0\n",
      "         MaxPool2d-3           [-1, 32, 14, 14]               0\n",
      "            Conv2d-4           [-1, 64, 14, 14]          18,496\n",
      "              ReLU-5           [-1, 64, 14, 14]               0\n",
      "         MaxPool2d-6             [-1, 64, 7, 7]               0\n",
      "            Linear-7                   [-1, 10]          31,370\n",
      "================================================================\n",
      "Total params: 50,186\n",
      "Trainable params: 50,186\n",
      "Non-trainable params: 0\n",
      "----------------------------------------------------------------\n",
      "Input size (MB): 0.00\n",
      "Forward/backward pass size (MB): 0.65\n",
      "Params size (MB): 0.19\n",
      "Estimated Total Size (MB): 0.84\n",
      "----------------------------------------------------------------\n"
     ]
    }
   ],
   "source": [
    "from torchsummary import summary\n",
    "summary(model, (1, 28, 28))"
   ]
  },
  {
   "cell_type": "code",
   "execution_count": 14,
   "id": "70608d8b",
   "metadata": {
    "ExecuteTime": {
     "end_time": "2022-03-17T07:28:57.266398Z",
     "start_time": "2022-03-17T07:28:57.263988Z"
    }
   },
   "outputs": [],
   "source": [
    "# 비용 함수와 옵티마이저를 정의\n",
    "criterion = torch.nn.CrossEntropyLoss().to(device)    # 비용 함수에 소프트맥스 함수 포함되어져 있음.\n",
    "optimizer = torch.optim.Adam(model.parameters(), lr=learning_rate)"
   ]
  },
  {
   "cell_type": "code",
   "execution_count": 15,
   "id": "47d6f03d",
   "metadata": {
    "ExecuteTime": {
     "end_time": "2022-03-17T07:28:57.269737Z",
     "start_time": "2022-03-17T07:28:57.267557Z"
    }
   },
   "outputs": [
    {
     "name": "stdout",
     "output_type": "stream",
     "text": [
      "Total batch : 600\n"
     ]
    }
   ],
   "source": [
    "# 총 배치의 수를 출력\n",
    "total_batch = len(data_loader)\n",
    "print('Total batch : {}'.format(total_batch))\n",
    "\n",
    "# 배치 사이즈가 100이고 배치 수가 600이므로 60,000개의 데이터 학습"
   ]
  },
  {
   "cell_type": "code",
   "execution_count": 16,
   "id": "57e175d3",
   "metadata": {
    "ExecuteTime": {
     "end_time": "2022-03-17T07:28:57.272443Z",
     "start_time": "2022-03-17T07:28:57.270720Z"
    }
   },
   "outputs": [],
   "source": [
    "# loss, accuracy 시각화\n",
    "cost_list = [] \n",
    "accuracy_list = []"
   ]
  },
  {
   "cell_type": "code",
   "execution_count": 17,
   "id": "a74476b5",
   "metadata": {
    "ExecuteTime": {
     "end_time": "2022-03-17T07:31:11.125616Z",
     "start_time": "2022-03-17T07:28:57.273649Z"
    }
   },
   "outputs": [
    {
     "name": "stderr",
     "output_type": "stream",
     "text": [
      "/compuworks/anaconda3/envs/song/lib/python3.7/site-packages/torchvision/datasets/mnist.py:80: UserWarning: test_data has been renamed data\n",
      "  warnings.warn(\"test_data has been renamed data\")\n",
      "/compuworks/anaconda3/envs/song/lib/python3.7/site-packages/torchvision/datasets/mnist.py:70: UserWarning: test_labels has been renamed targets\n",
      "  warnings.warn(\"test_labels has been renamed targets\")\n"
     ]
    },
    {
     "name": "stdout",
     "output_type": "stream",
     "text": [
      "[Epoch:    1] / cost = 0.222060099 / accuracy = 0.971399963\n",
      "[Epoch:    2] / cost = 0.0611627363 / accuracy = 0.972599983\n",
      "[Epoch:    3] / cost = 0.0453312695 / accuracy = 0.974699974\n",
      "[Epoch:    4] / cost = 0.0366176181 / accuracy = 0.983799994\n",
      "[Epoch:    5] / cost = 0.0299008526 / accuracy = 0.982899964\n",
      "[Epoch:    6] / cost = 0.0254108775 / accuracy = 0.987499952\n",
      "[Epoch:    7] / cost = 0.0201316215 / accuracy = 0.983699977\n",
      "[Epoch:    8] / cost = 0.0179204606 / accuracy = 0.982299984\n",
      "[Epoch:    9] / cost = 0.0153871914 / accuracy = 0.985599995\n",
      "[Epoch:   10] / cost = 0.0131179383 / accuracy = 0.986299992\n",
      "[Epoch:   11] / cost = 0.00999143254 / accuracy = 0.983500004\n",
      "[Epoch:   12] / cost = 0.00926900376 / accuracy = 0.986799955\n",
      "[Epoch:   13] / cost = 0.00817807857 / accuracy = 0.988999963\n",
      "[Epoch:   14] / cost = 0.0070477156 / accuracy = 0.986499965\n",
      "[Epoch:   15] / cost = 0.00572700286 / accuracy = 0.985899985\n",
      "[Epoch:   16] / cost = 0.0062630116 / accuracy = 0.986199975\n",
      "[Epoch:   17] / cost = 0.00427931314 / accuracy = 0.985899985\n",
      "[Epoch:   18] / cost = 0.0045573758 / accuracy = 0.987899959\n",
      "[Epoch:   19] / cost = 0.00334754819 / accuracy = 0.988199949\n",
      "[Epoch:   20] / cost = 0.00309185055 / accuracy = 0.988599956\n"
     ]
    }
   ],
   "source": [
    "# 모델 train\n",
    "for epoch in range(training_epochs):\n",
    "    avg_cost = 0\n",
    "    \n",
    "    # X = images, Y = labels\n",
    "    for X, Y in data_loader: # 미니 배치 단위로 꺼내온다. X는 미니 배치, Y는 레이블.\n",
    "        # image is already size of (28x28), no reshape\n",
    "        # label is not one-hot encoded\n",
    "        X = X.to(device).cuda()\n",
    "        Y = Y.to(device).cuda()\n",
    "        \n",
    "        #forward\n",
    "        hypothesis = model(X).cuda()\n",
    "        cost = criterion(hypothesis, Y)\n",
    "        optimizer.zero_grad()    \n",
    "        \n",
    "        #backward\n",
    "        cost.backward()\n",
    "        \n",
    "        # update\n",
    "        optimizer.step()\n",
    "\n",
    "        avg_cost += cost / total_batch\n",
    "\n",
    "    # 학습을 진행하지 않을 것이므로 torch.no_grad()\n",
    "    with torch.no_grad():\n",
    "        X_test = mnist_test.test_data.view(len(mnist_test), 1, 28, 28).float().to(device)\n",
    "        Y_test = mnist_test.test_labels.to(device)\n",
    "\n",
    "        prediction = model(X_test)\n",
    "        correct_prediction = torch.argmax(prediction, 1) == Y_test\n",
    "        accuracy = correct_prediction.float().mean()\n",
    "        # print('Accuracy:', accuracy.item())\n",
    "        \n",
    "        accuracy_list.append(accuracy)\n",
    "        cost_list.append(avg_cost)\n",
    "    \n",
    "    \n",
    "    print('[Epoch: {:>4}] / cost = {:>.9} / accuracy = {:>.9}'.format(epoch + 1, avg_cost, accuracy))"
   ]
  },
  {
   "cell_type": "code",
   "execution_count": 18,
   "id": "a3c9762e",
   "metadata": {
    "ExecuteTime": {
     "end_time": "2022-03-17T07:31:11.130710Z",
     "start_time": "2022-03-17T07:31:11.127074Z"
    }
   },
   "outputs": [],
   "source": [
    "cost_list_arr = []\n",
    "accuracy_list_arr = []\n",
    "for cost, accuracy in zip(cost_list, accuracy_list):\n",
    "    cost_list_arr.append(cost.detach().cpu().numpy())\n",
    "    accuracy_list_arr.append(accuracy.detach().cpu().numpy())"
   ]
  },
  {
   "cell_type": "code",
   "execution_count": 19,
   "id": "d30ce05e",
   "metadata": {
    "ExecuteTime": {
     "end_time": "2022-03-17T07:31:11.134854Z",
     "start_time": "2022-03-17T07:31:11.132062Z"
    }
   },
   "outputs": [
    {
     "data": {
      "text/plain": [
       "(20, 20)"
      ]
     },
     "execution_count": 19,
     "metadata": {},
     "output_type": "execute_result"
    }
   ],
   "source": [
    "len(cost_list_arr), len(accuracy_list_arr)"
   ]
  },
  {
   "cell_type": "code",
   "execution_count": 21,
   "id": "2b8a3d09",
   "metadata": {
    "ExecuteTime": {
     "end_time": "2022-03-17T07:32:58.790285Z",
     "start_time": "2022-03-17T07:32:58.623807Z"
    }
   },
   "outputs": [
    {
     "data": {
      "image/png": "[encoded data removed]",
      "text/plain": [
       "<Figure size 360x360 with 1 Axes>"
      ]
     },
     "metadata": {
      "needs_background": "light"
     },
     "output_type": "display_data"
    }
   ],
   "source": [
    "import matplotlib.pyplot as plt\n",
    "import numpy as np\n",
    "\n",
    "X = np.arange(0, training_epochs)\n",
    "\n",
    "plt.figure(figsize=(5,5)) \n",
    "plt.plot(X, cost_list_arr, label = 'cost')\n",
    "plt.plot(X, accuracy_list_arr, label = 'accuracy')\n",
    "plt.legend()\n",
    "plt.show()"
   ]
  },
  {
   "cell_type": "code",
   "execution_count": 22,
   "id": "0716bdf0",
   "metadata": {
    "ExecuteTime": {
     "end_time": "2022-03-17T07:32:59.943777Z",
     "start_time": "2022-03-17T07:32:59.727694Z"
    }
   },
   "outputs": [
    {
     "data": {
      "image/png": "[encoded data removed]",
      "text/plain": [
       "<Figure size 720x360 with 2 Axes>"
      ]
     },
     "metadata": {
      "needs_background": "light"
     },
     "output_type": "display_data"
    }
   ],
   "source": [
    "plt.figure(figsize=(10,5)) \n",
    "plt.subplot(1,2,1) \n",
    "plt.xlabel('Epoch') \n",
    "plt.ylabel('Cost') \n",
    "plt.plot(X, cost_list_arr, label = 'cost')\n",
    "plt.legend()\n",
    "\n",
    "plt.subplot(1,2,2) \n",
    "plt.xlabel('Epoch') \n",
    "plt.ylabel('Accuracy') \n",
    "plt.plot(X, accuracy_list_arr, label = 'accuracy')\n",
    "\n",
    "plt.legend()\n",
    "plt.show()"
   ]
  },
  {
   "cell_type": "code",
   "execution_count": 23,
   "id": "48de57d3",
   "metadata": {
    "ExecuteTime": {
     "end_time": "2022-03-17T07:33:00.159425Z",
     "start_time": "2022-03-17T07:33:00.157362Z"
    }
   },
   "outputs": [],
   "source": [
    "from PIL import Image\n",
    "import torchvision.transforms as transforms"
   ]
  },
  {
   "cell_type": "code",
   "execution_count": 24,
   "id": "ed7fd7f8",
   "metadata": {
    "ExecuteTime": {
     "end_time": "2022-03-17T07:33:00.460212Z",
     "start_time": "2022-03-17T07:33:00.451492Z"
    }
   },
   "outputs": [
    {
     "data": {
      "text/plain": [
       "(torch.Size([1, 28, 28]), torch.float32)"
      ]
     },
     "execution_count": 24,
     "metadata": {},
     "output_type": "execute_result"
    }
   ],
   "source": [
    "image = Image.open(\"555.jpg\")\n",
    "image = image.convert(\"L\").resize((28,28))\n",
    "tf = transforms.ToTensor()\n",
    "image = tf(image)\n",
    "image.shape, image.dtype"
   ]
  },
  {
   "cell_type": "code",
   "execution_count": 25,
   "id": "98b5f281",
   "metadata": {
    "ExecuteTime": {
     "end_time": "2022-03-17T07:33:00.812505Z",
     "start_time": "2022-03-17T07:33:00.807022Z"
    }
   },
   "outputs": [
    {
     "data": {
      "text/plain": [
       "5"
      ]
     },
     "execution_count": 25,
     "metadata": {},
     "output_type": "execute_result"
    }
   ],
   "source": [
    "image = image.view(len(image), 1, 28, 28).float().to(device)\n",
    "prediction = model(image)\n",
    "correct_prediction = torch.argmax(prediction)\n",
    "correct_prediction.item()"
   ]
  },
  {
   "cell_type": "code",
   "execution_count": 26,
   "id": "85554cd6",
   "metadata": {
    "ExecuteTime": {
     "end_time": "2022-03-17T07:33:01.437550Z",
     "start_time": "2022-03-17T07:33:01.420605Z"
    }
   },
   "outputs": [
    {
     "data": {
      "text/plain": [
       "3"
      ]
     },
     "execution_count": 26,
     "metadata": {},
     "output_type": "execute_result"
    }
   ],
   "source": [
    "image = Image.open(\"777.jpg\")\n",
    "image = image.convert(\"L\").resize((28,28))\n",
    "tf = transforms.ToTensor()\n",
    "image = tf(image)\n",
    "image = image.view(len(image), 1, 28, 28).float().to(device)\n",
    "prediction = model(image)\n",
    "correct_prediction = torch.argmax(prediction)\n",
    "correct_prediction.item()"
   ]
  },
  {
   "cell_type": "code",
   "execution_count": null,
   "id": "b216dd25",
   "metadata": {},
   "outputs": [],
   "source": []
  }
 ],
 "metadata": {
  "hide_input": false,
  "kernelspec": {
   "display_name": "Python 3 (ipykernel)",
   "language": "python",
   "name": "python3"
  },
  "language_info": {
   "codemirror_mode": {
    "name": "ipython",
    "version": 3
   },
   "file_extension": ".py",
   "mimetype": "text/x-python",
   "name": "python",
   "nbconvert_exporter": "python",
   "pygments_lexer": "ipython3",
   "version": "3.7.11"
  },
  "toc": {
   "base_numbering": 1,
   "nav_menu": {},
   "number_sections": true,
   "sideBar": true,
   "skip_h1_title": false,
   "title_cell": "Table of Contents",
   "title_sidebar": "Contents",
   "toc_cell": false,
   "toc_position": {},
   "toc_section_display": true,
   "toc_window_display": false
  },
  "varInspector": {
   "cols": {
    "lenName": 16,
    "lenType": 16,
    "lenVar": 40
   },
   "kernels_config": {
    "python": {
     "delete_cmd_postfix": "",
     "delete_cmd_prefix": "del ",
     "library": "var_list.py",
     "varRefreshCmd": "print(var_dic_list())"
    },
    "r": {
     "delete_cmd_postfix": ") ",
     "delete_cmd_prefix": "rm(",
     "library": "var_list.r",
     "varRefreshCmd": "cat(var_dic_list()) "
    }
   },
   "types_to_exclude": [
    "module",
    "function",
    "builtin_function_or_method",
    "instance",
    "_Feature"
   ],
   "window_display": false
  }
 },
 "nbformat": 4,
 "nbformat_minor": 5
}
