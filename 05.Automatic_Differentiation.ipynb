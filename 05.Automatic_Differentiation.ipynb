{
  "nbformat": 4,
  "nbformat_minor": 0,
  "metadata": {
    "colab": {
      "name": "05 Automatic Differentiation.ipynb",
      "provenance": [],
      "collapsed_sections": []
    },
    "kernelspec": {
      "name": "python3",
      "display_name": "Python 3"
    },
    "language_info": {
      "name": "python"
    }
  },
  "cells": [
    {
      "cell_type": "markdown",
      "source": [
        "\n",
        "## TORCH.AUTOGRAD를 사용한 자동 미분\n"
      ],
      "metadata": {
        "id": "r9-h4ZTZfXXk"
      }
    },
    {
      "cell_type": "markdown",
      "source": [
        "신경망을 학습할 때 가장 자주 사용되는 알고리즘은 역전파  \n",
        "이 알고리즘에서, 매개변수(모델 가중치)는 주어진 매개변수에 대한 손실 함수의 변화도(gradient)에 따라 조정  <br>\n",
        "\n",
        "이러한 변화도를 계산하기 위해 PyTorch에는 torch.autograd라고 불리는 자동 미분 엔진이 내장되어 있음  \n",
        "이는 모든 계산 그래프에 대한 변화도의 자동 계산을 지원  "
      ],
      "metadata": {
        "id": "qq1k52dRfcJV"
      }
    },
    {
      "cell_type": "markdown",
      "source": [
        "gradient 값을 확인 하려면 requires_grad = True로 생성한 Tensor에서 .grad를 통해 값을 확인할 수 있음"
      ],
      "metadata": {
        "id": "6yxXebXKpqs-"
      }
    },
    {
      "cell_type": "code",
      "execution_count": 1,
      "metadata": {
        "id": "--s8u_1ofOTF"
      },
      "outputs": [],
      "source": [
        "import torch"
      ]
    },
    {
      "cell_type": "code",
      "source": [
        "# 입력 x, 매개변수 w와 b , 그리고 일부 손실 함수가 있는 가장 간단한 단일 계층 신경망\n",
        "\n",
        "x = torch.ones(5)   # input tensor\n",
        "y = torch.zeros(3)  # expected output\n",
        "w = torch.randn(5, 3, requires_grad=True)   # 최적화 해야하는 매개변수\n",
        "b = torch.randn(3, requires_grad=True)      # 최적화 해야하는 매개변수\n",
        "z = torch.matmul(x, w)+b\n",
        "loss = torch.nn.functional.binary_cross_entropy_with_logits(z, y)"
      ],
      "metadata": {
        "id": "VMqFmkRBfwUX"
      },
      "execution_count": 2,
      "outputs": []
    },
    {
      "cell_type": "markdown",
      "source": [
        "![연산그래프](https://tutorials.pytorch.kr/_images/comp-graph.png)"
      ],
      "metadata": {
        "id": "1n0LSax-gxX4"
      }
    },
    {
      "cell_type": "markdown",
      "source": [
        "w와 b는 최적화를 해야 하는 매개변수  \n",
        "따라서 이러한 변수들에 대한 손실 함수의 변화도를 계산할 수 있어야 함  \n",
        "이를 위해서 해당 텐서에 requires_grad 속성을 설정"
      ],
      "metadata": {
        "id": "0Lq4W3beiiz_"
      }
    },
    {
      "cell_type": "markdown",
      "source": [
        "연산 그래프를 구성하기 위해 텐서에 적용하는 함수는 Function 클래스의 객체  \n",
        "이 객체는 순전파 방향으로 함수를 계산하는 방법과, 역방향 전파 단계에서 도함수(derivative)를 계산하는 방법을 알고 있음  \n",
        "역방향 전파 함수에 대한 참조(reference)는 텐서의 grad_fn 속성에 저장"
      ],
      "metadata": {
        "id": "fVMX2_s_iuqP"
      }
    },
    {
      "cell_type": "code",
      "source": [
        "print('Gradient function for z =', z.grad_fn)\n",
        "print('Gradient function for loss =', loss.grad_fn)"
      ],
      "metadata": {
        "colab": {
          "base_uri": "https://localhost:8080/"
        },
        "id": "GKhsgOBMiifH",
        "outputId": "f2496251-f398-44ee-e053-7356c75c16c8"
      },
      "execution_count": 3,
      "outputs": [
        {
          "output_type": "stream",
          "name": "stdout",
          "text": [
            "Gradient function for z = <AddBackward0 object at 0x7f25cf713d50>\n",
            "Gradient function for loss = <BinaryCrossEntropyWithLogitsBackward0 object at 0x7f25cf713f50>\n"
          ]
        }
      ]
    },
    {
      "cell_type": "markdown",
      "source": [
        "변화도(Gradient) 계산  \n",
        "신경망에서 매개변수의 가중치를 최적화하려면 매개변수에 대한 손실함수의 도함수(derivative)를 계산해야 함  \n",
        "즉, x와 y의 일부 고정값에서 \n",
        "∂loss / ∂w\n",
        "와\n",
        "∂loss / ∂b\n",
        "​가 필요  \n",
        "이러한 도함수를 계산하기 위해, loss.backward() 를 호출한 다음 w.grad와 b.grad에서 값을 가져옴"
      ],
      "metadata": {
        "id": "busjypEai4iq"
      }
    },
    {
      "cell_type": "code",
      "source": [
        "loss.backward()\n",
        "print(w.grad)\n",
        "print(b.grad)"
      ],
      "metadata": {
        "colab": {
          "base_uri": "https://localhost:8080/"
        },
        "id": "CGzx4zFDgxN3",
        "outputId": "6e85418b-534d-4039-decd-20191c1c558e"
      },
      "execution_count": 4,
      "outputs": [
        {
          "output_type": "stream",
          "name": "stdout",
          "text": [
            "tensor([[0.1441, 0.0443, 0.0845],\n",
            "        [0.1441, 0.0443, 0.0845],\n",
            "        [0.1441, 0.0443, 0.0845],\n",
            "        [0.1441, 0.0443, 0.0845],\n",
            "        [0.1441, 0.0443, 0.0845]])\n",
            "tensor([0.1441, 0.0443, 0.0845])\n"
          ]
        }
      ]
    },
    {
      "cell_type": "markdown",
      "source": [
        "변화도 추적 멈추기"
      ],
      "metadata": {
        "id": "SjqRYcC4pxTg"
      }
    },
    {
      "cell_type": "code",
      "source": [
        "# 방법 1.\n",
        "z = torch.matmul(x, w)+b\n",
        "print(z.requires_grad)\n",
        "\n",
        "with torch.no_grad():\n",
        "    z = torch.matmul(x, w)+b\n",
        "print(z.requires_grad)"
      ],
      "metadata": {
        "colab": {
          "base_uri": "https://localhost:8080/"
        },
        "id": "fVzVcFXogwgj",
        "outputId": "3c8f2eae-61bc-41a6-8580-60e8d0260c39"
      },
      "execution_count": 5,
      "outputs": [
        {
          "output_type": "stream",
          "name": "stdout",
          "text": [
            "True\n",
            "False\n"
          ]
        }
      ]
    },
    {
      "cell_type": "code",
      "source": [
        "# 방법 2.\n",
        "z = torch.matmul(x, w)+b\n",
        "z_det = z.detach()\n",
        "print(z_det.requires_grad)"
      ],
      "metadata": {
        "colab": {
          "base_uri": "https://localhost:8080/"
        },
        "id": "cXIqcUv-p3tu",
        "outputId": "4da7342d-8ef0-4031-a8f4-f13225374abf"
      },
      "execution_count": 7,
      "outputs": [
        {
          "output_type": "stream",
          "name": "stdout",
          "text": [
            "False\n"
          ]
        }
      ]
    },
    {
      "cell_type": "code",
      "source": [
        ""
      ],
      "metadata": {
        "id": "LTV1NGgVp5gv"
      },
      "execution_count": null,
      "outputs": []
    }
  ]
}