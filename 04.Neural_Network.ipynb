{
  "nbformat": 4,
  "nbformat_minor": 0,
  "metadata": {
    "colab": {
      "name": "04 Neural Network.ipynb",
      "provenance": [],
      "collapsed_sections": []
    },
    "kernelspec": {
      "name": "python3",
      "display_name": "Python 3"
    },
    "language_info": {
      "name": "python"
    },
    "accelerator": "GPU"
  },
  "cells": [
    {
      "cell_type": "markdown",
      "source": [
        "신경망: 데이터에 대한 연산을 수행하는 계층(layer)/모듈(module)로 구성<br>\n",
        "torch.nn 네임스페이스는 신경망을 구성하는데 필요한 모든 구성 요소를 제공<br>\n",
        "PyTorch의 모든 모듈은 nn.Module의 하위 클래스(subclass)"
      ],
      "metadata": {
        "id": "gjfVb5P1SaGl"
      }
    },
    {
      "cell_type": "code",
      "execution_count": 1,
      "metadata": {
        "colab": {
          "base_uri": "https://localhost:8080/"
        },
        "id": "cwIhwvMiSP7Q",
        "outputId": "1618fe47-f845-4588-9b88-0636502bd937"
      },
      "outputs": [
        {
          "output_type": "stream",
          "name": "stdout",
          "text": [
            "Thu Mar 10 05:28:05 2022       \n",
            "+-----------------------------------------------------------------------------+\n",
            "| NVIDIA-SMI 460.32.03    Driver Version: 460.32.03    CUDA Version: 11.2     |\n",
            "|-------------------------------+----------------------+----------------------+\n",
            "| GPU  Name        Persistence-M| Bus-Id        Disp.A | Volatile Uncorr. ECC |\n",
            "| Fan  Temp  Perf  Pwr:Usage/Cap|         Memory-Usage | GPU-Util  Compute M. |\n",
            "|                               |                      |               MIG M. |\n",
            "|===============================+======================+======================|\n",
            "|   0  Tesla K80           Off  | 00000000:00:04.0 Off |                    0 |\n",
            "| N/A   38C    P8    24W / 149W |      0MiB / 11441MiB |      0%      Default |\n",
            "|                               |                      |                  N/A |\n",
            "+-------------------------------+----------------------+----------------------+\n",
            "                                                                               \n",
            "+-----------------------------------------------------------------------------+\n",
            "| Processes:                                                                  |\n",
            "|  GPU   GI   CI        PID   Type   Process name                  GPU Memory |\n",
            "|        ID   ID                                                   Usage      |\n",
            "|=============================================================================|\n",
            "|  No running processes found                                                 |\n",
            "+-----------------------------------------------------------------------------+\n"
          ]
        }
      ],
      "source": [
        "!nvidia-smi"
      ]
    },
    {
      "cell_type": "code",
      "source": [
        "import os\n",
        "import torch\n",
        "from torch import nn\n",
        "from torch.utils.data import DataLoader\n",
        "from torchvision import datasets, transforms"
      ],
      "metadata": {
        "id": "REBdYnHvS9cj"
      },
      "execution_count": 2,
      "outputs": []
    },
    {
      "cell_type": "code",
      "source": [
        "device = 'cuda' if torch.cuda.is_available() else 'cpu'\n",
        "print(f'Using {device} device')"
      ],
      "metadata": {
        "colab": {
          "base_uri": "https://localhost:8080/"
        },
        "id": "uQkNU9R5S_BP",
        "outputId": "be2df08d-b655-4e1a-ac33-0d97947b75f9"
      },
      "execution_count": 3,
      "outputs": [
        {
          "output_type": "stream",
          "name": "stdout",
          "text": [
            "Using cuda device\n"
          ]
        }
      ]
    },
    {
      "cell_type": "code",
      "source": [
        "class NeuralNetwork(nn.Module):\n",
        "    def __init__(self):\n",
        "        super(NeuralNetwork, self).__init__()\n",
        "        self.flatten = nn.Flatten()\n",
        "        self.linear_relu_stack = nn.Sequential(\n",
        "            nn.Linear(28*28, 512),\n",
        "            nn.ReLU(),\n",
        "            nn.Linear(512, 512),\n",
        "            nn.ReLU(),\n",
        "            nn.Linear(512, 10)\n",
        "        )\n",
        "\n",
        "    def forward(self, x):\n",
        "        x = self.flatten(x)\n",
        "        logits = self.linear_relu_stack(x)\n",
        "        return logits"
      ],
      "metadata": {
        "id": "Y4Sae15-TCku"
      },
      "execution_count": 4,
      "outputs": []
    },
    {
      "cell_type": "code",
      "source": [
        "model = NeuralNetwork().to(device)\n",
        "print(model)"
      ],
      "metadata": {
        "colab": {
          "base_uri": "https://localhost:8080/"
        },
        "id": "GOdzxmnPUC1P",
        "outputId": "9cf1c543-c7bd-4ccd-c928-04feb1c9ff2b"
      },
      "execution_count": 5,
      "outputs": [
        {
          "output_type": "stream",
          "name": "stdout",
          "text": [
            "NeuralNetwork(\n",
            "  (flatten): Flatten(start_dim=1, end_dim=-1)\n",
            "  (linear_relu_stack): Sequential(\n",
            "    (0): Linear(in_features=784, out_features=512, bias=True)\n",
            "    (1): ReLU()\n",
            "    (2): Linear(in_features=512, out_features=512, bias=True)\n",
            "    (3): ReLU()\n",
            "    (4): Linear(in_features=512, out_features=10, bias=True)\n",
            "  )\n",
            ")\n"
          ]
        }
      ]
    },
    {
      "cell_type": "code",
      "source": [
        "X = torch.rand(1, 28, 28, device=device) # 채널 1, 입력 28*28 텐서를 0에서 1사이의 숫자로 균등하게 생성\n",
        "logits = model(X)   # Logit: 마지막 노드에서 아무런 Activation Function을 거치지 않은 값\n",
        "pred_probab = nn.Softmax(dim=1)(logits)\n",
        "y_pred = pred_probab.argmax(1)\n",
        "print(f\"Predicted class: {y_pred}\")"
      ],
      "metadata": {
        "colab": {
          "base_uri": "https://localhost:8080/"
        },
        "id": "uT8RLICuUKzI",
        "outputId": "cb4b67b6-1cb5-433f-9a53-b34baa14f5b5"
      },
      "execution_count": 6,
      "outputs": [
        {
          "output_type": "stream",
          "name": "stdout",
          "text": [
            "Predicted class: tensor([3], device='cuda:0')\n"
          ]
        }
      ]
    },
    {
      "cell_type": "markdown",
      "source": [
        "https://jins-sw.tistory.com/38"
      ],
      "metadata": {
        "id": "3gs7J9JqYd9q"
      }
    },
    {
      "cell_type": "code",
      "source": [
        "logits"
      ],
      "metadata": {
        "colab": {
          "base_uri": "https://localhost:8080/"
        },
        "id": "0xfCeQ2CUjan",
        "outputId": "dad4e3a7-f411-4c65-c47d-fd342a7d892e"
      },
      "execution_count": 8,
      "outputs": [
        {
          "output_type": "execute_result",
          "data": {
            "text/plain": [
              "tensor([[-0.0169, -0.0429,  0.0388,  0.1726,  0.0697, -0.0256,  0.0940, -0.0200,\n",
              "          0.0240,  0.0036]], device='cuda:0', grad_fn=<AddmmBackward0>)"
            ]
          },
          "metadata": {},
          "execution_count": 8
        }
      ]
    },
    {
      "cell_type": "code",
      "source": [
        "pred_probab"
      ],
      "metadata": {
        "colab": {
          "base_uri": "https://localhost:8080/"
        },
        "id": "stn4_JZaVgAQ",
        "outputId": "08c04858-d14b-4fb1-c2d8-931f27fbb4be"
      },
      "execution_count": 10,
      "outputs": [
        {
          "output_type": "execute_result",
          "data": {
            "text/plain": [
              "tensor([[0.0953, 0.0928, 0.1007, 0.1151, 0.1039, 0.0944, 0.1064, 0.0950, 0.0992,\n",
              "         0.0972]], device='cuda:0', grad_fn=<SoftmaxBackward0>)"
            ]
          },
          "metadata": {},
          "execution_count": 10
        }
      ]
    },
    {
      "cell_type": "code",
      "source": [
        "torch.sum(pred_probab)"
      ],
      "metadata": {
        "colab": {
          "base_uri": "https://localhost:8080/"
        },
        "id": "Z-uHzQabXAgv",
        "outputId": "182ad9c9-dd74-44eb-f176-3c98589aca9c"
      },
      "execution_count": 11,
      "outputs": [
        {
          "output_type": "execute_result",
          "data": {
            "text/plain": [
              "tensor(1., device='cuda:0', grad_fn=<SumBackward0>)"
            ]
          },
          "metadata": {},
          "execution_count": 11
        }
      ]
    },
    {
      "cell_type": "code",
      "source": [
        "y_pred"
      ],
      "metadata": {
        "colab": {
          "base_uri": "https://localhost:8080/"
        },
        "id": "KjtXuyd4XP9F",
        "outputId": "8ecfa99a-c84b-42aa-9d73-c3655bb7d02a"
      },
      "execution_count": 12,
      "outputs": [
        {
          "output_type": "execute_result",
          "data": {
            "text/plain": [
              "tensor([3], device='cuda:0')"
            ]
          },
          "metadata": {},
          "execution_count": 12
        }
      ]
    },
    {
      "cell_type": "markdown",
      "source": [
        "모델 계층(Layer)  \n",
        "FashionMNIST 모델의 계층<br>\n",
        "28x28 크기의 이미지 3개로 구성된 미니배치를 가져와, 신경망을 통과할 때 어떤 일이 발생하는지"
      ],
      "metadata": {
        "id": "no7YmfKXYjYi"
      }
    },
    {
      "cell_type": "code",
      "source": [
        "input_image = torch.rand(3,28,28)\n",
        "input_image.size()"
      ],
      "metadata": {
        "colab": {
          "base_uri": "https://localhost:8080/"
        },
        "id": "p0xKw8aTXTVF",
        "outputId": "38c0ad65-a467-4f13-fd0e-7760420349c5"
      },
      "execution_count": 13,
      "outputs": [
        {
          "output_type": "execute_result",
          "data": {
            "text/plain": [
              "torch.Size([3, 28, 28])"
            ]
          },
          "metadata": {},
          "execution_count": 13
        }
      ]
    },
    {
      "cell_type": "markdown",
      "source": [
        "nn.Flatten  \n",
        "nn.Flatten 계층을 초기화하여 각 28x28의 2D 이미지를 784 픽셀 값을 갖는 연속된 배열로 변환  \n",
        "(dim=0의 미니배치 차원은 유지)"
      ],
      "metadata": {
        "id": "iZzQI2MjYyYc"
      }
    },
    {
      "cell_type": "code",
      "source": [
        "flatten = nn.Flatten()\n",
        "flat_image = flatten(input_image)\n",
        "flat_image.size()"
      ],
      "metadata": {
        "colab": {
          "base_uri": "https://localhost:8080/"
        },
        "id": "EJqBz0FzYvtP",
        "outputId": "e5a5def7-9195-4a26-8e73-4f35034f57e8"
      },
      "execution_count": 15,
      "outputs": [
        {
          "output_type": "execute_result",
          "data": {
            "text/plain": [
              "torch.Size([3, 784])"
            ]
          },
          "metadata": {},
          "execution_count": 15
        }
      ]
    },
    {
      "cell_type": "markdown",
      "source": [
        "nn.Linear  \n",
        "선형 계층 은 저장된 가중치(weight)와 편향(bias)을 사용하여 입력에 선형 변환(linear transformation)을 적용하는 모듈"
      ],
      "metadata": {
        "id": "Bc0vgSM8ZAJJ"
      }
    },
    {
      "cell_type": "code",
      "source": [
        "layer1 = nn.Linear(in_features=28*28, out_features=20)\n",
        "hidden1 = layer1(flat_image)\n",
        "hidden1.size()"
      ],
      "metadata": {
        "colab": {
          "base_uri": "https://localhost:8080/"
        },
        "id": "milqvWfeY5Bd",
        "outputId": "345eb26b-5fad-4e48-8072-6e2cb77c5276"
      },
      "execution_count": 19,
      "outputs": [
        {
          "output_type": "execute_result",
          "data": {
            "text/plain": [
              "torch.Size([3, 20])"
            ]
          },
          "metadata": {},
          "execution_count": 19
        }
      ]
    },
    {
      "cell_type": "markdown",
      "source": [
        "nn.ReLU  \n",
        "비선형 활성화(activation)는 모델의 입력과 출력 사이에 복잡한 관계(mapping) 형성<br>\n",
        "비선형 활성화는 선형 변환 후에 적용되어 비선형성(nonlinearity) 을 도입하고, 신경망이 다양한 현상을 학습할 수 있도록 도움"
      ],
      "metadata": {
        "id": "m8HE-OcTZO1G"
      }
    },
    {
      "cell_type": "code",
      "source": [
        "print(f\"Before ReLU: {hidden1[0]}\\n\\n\")\n",
        "hidden1 = nn.ReLU()(hidden1)\n",
        "print(f\"After ReLU: {hidden1[0]}\")"
      ],
      "metadata": {
        "colab": {
          "base_uri": "https://localhost:8080/"
        },
        "id": "Y-ETVy1gZFEw",
        "outputId": "af4fcfa2-04c6-4ced-931b-1be6d568f2e7"
      },
      "execution_count": 20,
      "outputs": [
        {
          "output_type": "stream",
          "name": "stdout",
          "text": [
            "Before ReLU: tensor([-0.0045, -0.5127, -0.4287, -0.4280, -0.7019,  0.1051,  0.7310, -0.1336,\n",
            "         0.5023,  0.2341,  0.4704,  0.0568, -0.2057, -0.0355,  0.0036, -0.0744,\n",
            "        -0.0768,  0.2408, -0.0957,  0.4796], grad_fn=<SelectBackward0>)\n",
            "\n",
            "\n",
            "After ReLU: tensor([0.0000, 0.0000, 0.0000, 0.0000, 0.0000, 0.1051, 0.7310, 0.0000, 0.5023,\n",
            "        0.2341, 0.4704, 0.0568, 0.0000, 0.0000, 0.0036, 0.0000, 0.0000, 0.2408,\n",
            "        0.0000, 0.4796], grad_fn=<SelectBackward0>)\n"
          ]
        }
      ]
    },
    {
      "cell_type": "markdown",
      "source": [
        "nn.Sequential  \n",
        "nn.Sequential 은 순서를 갖는 모듈의 컨테이너  \n",
        "데이터는 정의된 것과 같은 순서로 모든 모듈들을 통해 전달  \n",
        "순차 컨테이너(sequential container)를 사용하여 아래의 seq_modules 와 같은 신경망을 빠르게 생성 가능"
      ],
      "metadata": {
        "id": "rkPrj27cb7TN"
      }
    },
    {
      "cell_type": "code",
      "source": [
        "seq_modules = nn.Sequential(\n",
        "    flatten,\n",
        "    layer1,\n",
        "    nn.ReLU(),\n",
        "    nn.Linear(20, 10)\n",
        ")\n",
        "input_image = torch.rand(3,28,28)\n",
        "logits = seq_modules(input_image)"
      ],
      "metadata": {
        "id": "ZSsghfsLZcux"
      },
      "execution_count": 21,
      "outputs": []
    },
    {
      "cell_type": "markdown",
      "source": [
        "nn.Softmax  \n",
        "신경망의 마지막 선형 계층은 nn.Softmax 모듈에 전달될 ([-infty, infty] 범위의 원시 값(raw value)인) logits 를 반환  \n",
        "logits는 모델의 각 분류(class)에 대한 예측 확률을 나타내도록 [0, 1] 범위로 비례하여 조정(scale)  \n",
        "dim 매개변수는 값의 합이 1이 되는 차원"
      ],
      "metadata": {
        "id": "5EmV0FrycRzU"
      }
    },
    {
      "cell_type": "code",
      "source": [
        "softmax = nn.Softmax(dim=1)\n",
        "pred_probab = softmax(logits)"
      ],
      "metadata": {
        "id": "NK2gyp65cRBO"
      },
      "execution_count": 22,
      "outputs": []
    },
    {
      "cell_type": "code",
      "source": [
        "pred_probab"
      ],
      "metadata": {
        "colab": {
          "base_uri": "https://localhost:8080/"
        },
        "id": "B0ommQsodBuX",
        "outputId": "66e82445-1db7-42fb-d701-d9bd2a751c10"
      },
      "execution_count": 27,
      "outputs": [
        {
          "output_type": "execute_result",
          "data": {
            "text/plain": [
              "tensor([[0.1249, 0.1176, 0.0874, 0.1150, 0.0789, 0.0958, 0.1144, 0.0838, 0.0942,\n",
              "         0.0881],\n",
              "        [0.1016, 0.1338, 0.0891, 0.1057, 0.0662, 0.1111, 0.1036, 0.0959, 0.1048,\n",
              "         0.0882],\n",
              "        [0.1090, 0.1193, 0.0933, 0.1069, 0.0714, 0.1035, 0.1039, 0.0987, 0.0987,\n",
              "         0.0952]], grad_fn=<SoftmaxBackward0>)"
            ]
          },
          "metadata": {},
          "execution_count": 27
        }
      ]
    },
    {
      "cell_type": "markdown",
      "source": [
        "모델 매개변수  \n",
        "신경망 내부의 많은 계층들은 매개변수화(parameterize) 됨  \n",
        "즉, 학습 중에 최적화되는 가중치와 편향과 연관  \n",
        "nn.Module 을 상속하면 모델 객체 내부의 모든 필드들이 자동으로 추적(track)  \n",
        "모델의 parameters() 및 named_parameters() 메소드로 모든 매개변수에 접근 가능"
      ],
      "metadata": {
        "id": "Fkh36mgfcgu0"
      }
    },
    {
      "cell_type": "code",
      "source": [
        "print(\"Model structure: \", model)"
      ],
      "metadata": {
        "colab": {
          "base_uri": "https://localhost:8080/"
        },
        "id": "j1wPk-Hpccff",
        "outputId": "18b138f6-452d-44cb-dca8-9470507bbd5f"
      },
      "execution_count": 24,
      "outputs": [
        {
          "output_type": "stream",
          "name": "stdout",
          "text": [
            "Model structure:  NeuralNetwork(\n",
            "  (flatten): Flatten(start_dim=1, end_dim=-1)\n",
            "  (linear_relu_stack): Sequential(\n",
            "    (0): Linear(in_features=784, out_features=512, bias=True)\n",
            "    (1): ReLU()\n",
            "    (2): Linear(in_features=512, out_features=512, bias=True)\n",
            "    (3): ReLU()\n",
            "    (4): Linear(in_features=512, out_features=10, bias=True)\n",
            "  )\n",
            ")\n"
          ]
        }
      ]
    },
    {
      "cell_type": "code",
      "source": [
        "for name, param in model.named_parameters():\n",
        "    print(f\"Layer: {name} | Size: {param.size()} | Values : {param[:2]} \\n\")"
      ],
      "metadata": {
        "colab": {
          "base_uri": "https://localhost:8080/"
        },
        "id": "4SK512ZgcxFD",
        "outputId": "50072b30-7cf4-40de-8d88-456917089f83"
      },
      "execution_count": 25,
      "outputs": [
        {
          "output_type": "stream",
          "name": "stdout",
          "text": [
            "Layer: linear_relu_stack.0.weight | Size: torch.Size([512, 784]) | Values : tensor([[ 0.0329,  0.0194,  0.0218,  ...,  0.0087,  0.0010,  0.0119],\n",
            "        [-0.0281,  0.0337,  0.0162,  ..., -0.0241,  0.0355, -0.0338]],\n",
            "       device='cuda:0', grad_fn=<SliceBackward0>) \n",
            "\n",
            "Layer: linear_relu_stack.0.bias | Size: torch.Size([512]) | Values : tensor([-0.0329, -0.0190], device='cuda:0', grad_fn=<SliceBackward0>) \n",
            "\n",
            "Layer: linear_relu_stack.2.weight | Size: torch.Size([512, 512]) | Values : tensor([[-3.5301e-02,  1.2454e-02, -2.0082e-02,  ..., -3.3867e-02,\n",
            "         -1.9725e-05,  3.6817e-02],\n",
            "        [ 2.2278e-02, -3.7010e-02, -8.0826e-03,  ..., -1.2653e-02,\n",
            "         -1.3790e-02, -3.2078e-02]], device='cuda:0', grad_fn=<SliceBackward0>) \n",
            "\n",
            "Layer: linear_relu_stack.2.bias | Size: torch.Size([512]) | Values : tensor([0.0135, 0.0161], device='cuda:0', grad_fn=<SliceBackward0>) \n",
            "\n",
            "Layer: linear_relu_stack.4.weight | Size: torch.Size([10, 512]) | Values : tensor([[-0.0070,  0.0011, -0.0224,  ...,  0.0055,  0.0192, -0.0152],\n",
            "        [-0.0384, -0.0294, -0.0053,  ..., -0.0104, -0.0072, -0.0428]],\n",
            "       device='cuda:0', grad_fn=<SliceBackward0>) \n",
            "\n",
            "Layer: linear_relu_stack.4.bias | Size: torch.Size([10]) | Values : tensor([ 0.0364, -0.0005], device='cuda:0', grad_fn=<SliceBackward0>) \n",
            "\n"
          ]
        }
      ]
    },
    {
      "cell_type": "code",
      "source": [
        ""
      ],
      "metadata": {
        "id": "MqqmYVyQcz9a"
      },
      "execution_count": null,
      "outputs": []
    }
  ]
}