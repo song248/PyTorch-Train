{
 "cells": [
  {
   "cell_type": "markdown",
   "id": "15aa4f06",
   "metadata": {},
   "source": [
    "### 모델 이해하기"
   ]
  },
  {
   "cell_type": "markdown",
   "id": "c3d83e98",
   "metadata": {
    "hide_input": false
   },
   "source": [
    "#### 첫번째 표기 방법\n",
    "합성곱(nn.Cov2d) + 활성화 함수(nn.ReLU)를 하나의 합성곱 층으로 보고, 맥스풀링(nn.MaxPoold2d)은 풀링 층으로 별도로 명명  \n",
    "  \n",
    "#### 두번째 표기 방법\n",
    "합성곱(nn.Conv2d) + 활성화 함수(nn.ReLU) + 맥스풀링(nn.MaxPoold2d)을 하나의 합성곱 층으로 간주"
   ]
  },
  {
   "cell_type": "markdown",
   "id": "f727cea5",
   "metadata": {},
   "source": [
    "### 모델 구현"
   ]
  },
  {
   "cell_type": "markdown",
   "id": "e8280411",
   "metadata": {},
   "source": [
    "#### 필요한 도구 임포트, 입력 정의"
   ]
  },
  {
   "cell_type": "code",
   "execution_count": 1,
   "id": "4489d301",
   "metadata": {
    "ExecuteTime": {
     "end_time": "2022-03-17T04:13:28.842252Z",
     "start_time": "2022-03-17T04:13:28.369063Z"
    }
   },
   "outputs": [],
   "source": [
    "import torch\n",
    "import torch.nn as nn"
   ]
  },
  {
   "cell_type": "code",
   "execution_count": 2,
   "id": "bd63c8bc",
   "metadata": {
    "ExecuteTime": {
     "end_time": "2022-03-17T04:13:28.850273Z",
     "start_time": "2022-03-17T04:13:28.845096Z"
    }
   },
   "outputs": [
    {
     "name": "stdout",
     "output_type": "stream",
     "text": [
      "텐서의 크기 : torch.Size([1, 1, 28, 28])\n"
     ]
    }
   ],
   "source": [
    "# 배치 크기 × 채널 × 높이(height) × 너비(widht)의 크기의 텐서를 선언\n",
    "inputs = torch.Tensor(1, 1, 28, 28)\n",
    "print('텐서의 크기 : {}'.format(inputs.shape))"
   ]
  },
  {
   "cell_type": "markdown",
   "id": "3c610860",
   "metadata": {},
   "source": [
    "#### 합성곱층과 풀링 선언"
   ]
  },
  {
   "cell_type": "code",
   "execution_count": 3,
   "id": "0fb85d58",
   "metadata": {
    "ExecuteTime": {
     "end_time": "2022-03-17T04:13:28.857927Z",
     "start_time": "2022-03-17T04:13:28.852431Z"
    }
   },
   "outputs": [
    {
     "name": "stdout",
     "output_type": "stream",
     "text": [
      "Conv2d(1, 32, kernel_size=(3, 3), stride=(1, 1), padding=(1, 1))\n"
     ]
    }
   ],
   "source": [
    "# 1채널 짜리를 입력받아서 32채널을 뽑아내는데 커널 사이즈는 3이고 패딩은 1\n",
    "conv1 = nn.Conv2d(1, 32, 3, padding=1)\n",
    "print(conv1)"
   ]
  },
  {
   "cell_type": "code",
   "execution_count": 4,
   "id": "f8751898",
   "metadata": {
    "ExecuteTime": {
     "end_time": "2022-03-17T04:13:28.865642Z",
     "start_time": "2022-03-17T04:13:28.860743Z"
    }
   },
   "outputs": [
    {
     "name": "stdout",
     "output_type": "stream",
     "text": [
      "Conv2d(32, 64, kernel_size=(3, 3), stride=(1, 1), padding=(1, 1))\n"
     ]
    }
   ],
   "source": [
    "# 32채널 짜리를 입력받아서 64채널을 뽑아내는데 커널 사이즈는 3이고 패딩은 1\n",
    "conv2 = nn.Conv2d(32, 64, kernel_size=3, padding=1)\n",
    "print(conv2)"
   ]
  },
  {
   "cell_type": "code",
   "execution_count": 5,
   "id": "85e0d6c3",
   "metadata": {
    "ExecuteTime": {
     "end_time": "2022-03-17T04:13:28.871868Z",
     "start_time": "2022-03-17T04:13:28.867608Z"
    }
   },
   "outputs": [
    {
     "name": "stdout",
     "output_type": "stream",
     "text": [
      "MaxPool2d(kernel_size=2, stride=2, padding=0, dilation=1, ceil_mode=False)\n"
     ]
    }
   ],
   "source": [
    "# 정수 하나를 인자로 넣으면 커널 사이즈와 스트라이드가 둘 다 해당값으로 지정\n",
    "pool = nn.MaxPool2d(2)\n",
    "print(pool)"
   ]
  },
  {
   "cell_type": "markdown",
   "id": "d56eff9c",
   "metadata": {},
   "source": [
    "#### 구현체 연결, 모델 만들기"
   ]
  },
  {
   "cell_type": "code",
   "execution_count": 6,
   "id": "9ea1eaa2",
   "metadata": {
    "ExecuteTime": {
     "end_time": "2022-03-17T04:13:28.880732Z",
     "start_time": "2022-03-17T04:13:28.873828Z"
    }
   },
   "outputs": [
    {
     "name": "stdout",
     "output_type": "stream",
     "text": [
      "torch.Size([1, 32, 28, 28])\n"
     ]
    }
   ],
   "source": [
    "# 입력을 첫번째 합성곱층을 통과시키고 합성곱층을 통과시킨 후의 텐서의 크기\n",
    "out = conv1(inputs)\n",
    "print(out.shape)"
   ]
  },
  {
   "cell_type": "code",
   "execution_count": 7,
   "id": "d8a3d053",
   "metadata": {
    "ExecuteTime": {
     "end_time": "2022-03-17T04:13:28.888469Z",
     "start_time": "2022-03-17T04:13:28.883038Z"
    }
   },
   "outputs": [
    {
     "name": "stdout",
     "output_type": "stream",
     "text": [
      "torch.Size([1, 32, 14, 14])\n"
     ]
    }
   ],
   "source": [
    "# 맥스풀링을 통과시키고 맥스풀링을 통과한 후의 텐서의 크기\n",
    "out = pool(out)\n",
    "print(out.shape)"
   ]
  },
  {
   "cell_type": "code",
   "execution_count": 8,
   "id": "c2659c5a",
   "metadata": {
    "ExecuteTime": {
     "end_time": "2022-03-17T04:13:28.895803Z",
     "start_time": "2022-03-17T04:13:28.891301Z"
    }
   },
   "outputs": [
    {
     "name": "stdout",
     "output_type": "stream",
     "text": [
      "torch.Size([1, 64, 14, 14])\n"
     ]
    }
   ],
   "source": [
    "# 두번째 합성곱층에 통과시키고 통과한 후의 텐서의 크기\n",
    "out = conv2(out)\n",
    "print(out.shape)"
   ]
  },
  {
   "cell_type": "code",
   "execution_count": 9,
   "id": "c4c43166",
   "metadata": {
    "ExecuteTime": {
     "end_time": "2022-03-17T04:13:28.900506Z",
     "start_time": "2022-03-17T04:13:28.897316Z"
    }
   },
   "outputs": [
    {
     "name": "stdout",
     "output_type": "stream",
     "text": [
      "torch.Size([1, 64, 7, 7])\n"
     ]
    }
   ],
   "source": [
    "# 맥스풀링을 통과시키고 맥스풀링을 통과한 후의 텐서의 크기\n",
    "out = pool(out)\n",
    "print(out.shape)"
   ]
  },
  {
   "cell_type": "code",
   "execution_count": 10,
   "id": "b251f512",
   "metadata": {
    "ExecuteTime": {
     "end_time": "2022-03-17T04:13:28.909298Z",
     "start_time": "2022-03-17T04:13:28.903337Z"
    }
   },
   "outputs": [
    {
     "data": {
      "text/plain": [
       "1"
      ]
     },
     "execution_count": 10,
     "metadata": {},
     "output_type": "execute_result"
    }
   ],
   "source": [
    "# 텐서 펼치기\n",
    "out.size(0)"
   ]
  },
  {
   "cell_type": "code",
   "execution_count": 11,
   "id": "31161531",
   "metadata": {
    "ExecuteTime": {
     "end_time": "2022-03-17T04:13:28.913203Z",
     "start_time": "2022-03-17T04:13:28.910415Z"
    }
   },
   "outputs": [
    {
     "data": {
      "text/plain": [
       "64"
      ]
     },
     "execution_count": 11,
     "metadata": {},
     "output_type": "execute_result"
    }
   ],
   "source": [
    "out.size(1)"
   ]
  },
  {
   "cell_type": "code",
   "execution_count": 12,
   "id": "78de6e91",
   "metadata": {
    "ExecuteTime": {
     "end_time": "2022-03-17T04:13:28.916843Z",
     "start_time": "2022-03-17T04:13:28.914227Z"
    }
   },
   "outputs": [
    {
     "data": {
      "text/plain": [
       "7"
      ]
     },
     "execution_count": 12,
     "metadata": {},
     "output_type": "execute_result"
    }
   ],
   "source": [
    "out.size(2)"
   ]
  },
  {
   "cell_type": "code",
   "execution_count": 13,
   "id": "395ca974",
   "metadata": {
    "ExecuteTime": {
     "end_time": "2022-03-17T04:13:28.920386Z",
     "start_time": "2022-03-17T04:13:28.917696Z"
    }
   },
   "outputs": [
    {
     "data": {
      "text/plain": [
       "7"
      ]
     },
     "execution_count": 13,
     "metadata": {},
     "output_type": "execute_result"
    }
   ],
   "source": [
    "out.size(3)"
   ]
  },
  {
   "cell_type": "code",
   "execution_count": 14,
   "id": "6160aab5",
   "metadata": {
    "ExecuteTime": {
     "end_time": "2022-03-17T04:13:28.923848Z",
     "start_time": "2022-03-17T04:13:28.921388Z"
    }
   },
   "outputs": [
    {
     "name": "stdout",
     "output_type": "stream",
     "text": [
      "torch.Size([1, 3136])\n"
     ]
    }
   ],
   "source": [
    "# 첫번째 차원인 배치 차원은 그대로 두고 나머지는 펼치는 작업\n",
    "out = out.view(out.size(0), -1) \n",
    "print(out.shape)\n",
    "# 배치 차원을 제외하고 모두 하나의 차원으로 통합"
   ]
  },
  {
   "cell_type": "code",
   "execution_count": 15,
   "id": "740d0d34",
   "metadata": {
    "ExecuteTime": {
     "end_time": "2022-03-17T04:13:28.927956Z",
     "start_time": "2022-03-17T04:13:28.925012Z"
    }
   },
   "outputs": [
    {
     "name": "stdout",
     "output_type": "stream",
     "text": [
      "torch.Size([1, 10])\n"
     ]
    }
   ],
   "source": [
    "# 전결합층(Fully-Connteced layer)를 통과\n",
    "# 출력층으로 10개의 뉴런을 배치하여 10개 차원의 텐서로 변환\n",
    "fc = nn.Linear(3136, 10) # input_dim = 3,136, output_dim = 10\n",
    "out = fc(out)\n",
    "print(out.shape)"
   ]
  },
  {
   "cell_type": "markdown",
   "id": "835c6d9f",
   "metadata": {},
   "source": [
    "### CNN으로 MNIST 분류"
   ]
  },
  {
   "cell_type": "code",
   "execution_count": 16,
   "id": "250a93a6",
   "metadata": {
    "ExecuteTime": {
     "end_time": "2022-03-17T04:13:29.012164Z",
     "start_time": "2022-03-17T04:13:28.928975Z"
    }
   },
   "outputs": [],
   "source": [
    "import torch\n",
    "import torchvision.datasets as dsets\n",
    "import torchvision.transforms as transforms\n",
    "import torch.nn.init"
   ]
  },
  {
   "cell_type": "code",
   "execution_count": 17,
   "id": "1edda6af",
   "metadata": {
    "ExecuteTime": {
     "end_time": "2022-03-17T04:13:29.064158Z",
     "start_time": "2022-03-17T04:13:29.013395Z"
    }
   },
   "outputs": [],
   "source": [
    "# GPU를 사용 가능하다면 device 값이 cuda가 되고, 아니라면 cpu\n",
    "device = 'cuda' if torch.cuda.is_available() else 'cpu'\n",
    "\n",
    "# 랜덤 시드 고정\n",
    "torch.manual_seed(777)\n",
    "\n",
    "# GPU 사용 가능일 경우 랜덤 시드 고정\n",
    "if device == 'cuda':\n",
    "    torch.cuda.manual_seed_all(777)"
   ]
  },
  {
   "cell_type": "code",
   "execution_count": 18,
   "id": "eb3f2b57",
   "metadata": {
    "ExecuteTime": {
     "end_time": "2022-03-17T04:13:29.070243Z",
     "start_time": "2022-03-17T04:13:29.066266Z"
    }
   },
   "outputs": [
    {
     "name": "stdout",
     "output_type": "stream",
     "text": [
      "cuda\n"
     ]
    }
   ],
   "source": [
    "print(device)"
   ]
  },
  {
   "cell_type": "code",
   "execution_count": 19,
   "id": "80b2f112",
   "metadata": {
    "ExecuteTime": {
     "end_time": "2022-03-17T04:13:29.075984Z",
     "start_time": "2022-03-17T04:13:29.072306Z"
    }
   },
   "outputs": [],
   "source": [
    "# 학습에 사용할 파라미터\n",
    "learning_rate = 0.001\n",
    "training_epochs = 20\n",
    "batch_size = 100"
   ]
  },
  {
   "cell_type": "code",
   "execution_count": 20,
   "id": "f23a5ba3",
   "metadata": {
    "ExecuteTime": {
     "end_time": "2022-03-17T04:13:29.127777Z",
     "start_time": "2022-03-17T04:13:29.076965Z"
    }
   },
   "outputs": [],
   "source": [
    "# 데이터로더를 사용하여 데이터를 다루기 위해서 데이터셋을 정의\n",
    "mnist_train = dsets.MNIST(root='MNIST_data/', # 다운로드 경로 지정\n",
    "                          train=True, # True를 지정하면 훈련 데이터로 다운로드\n",
    "                          transform=transforms.ToTensor(), # 텐서로 변환\n",
    "                          download=True)\n",
    "\n",
    "mnist_test = dsets.MNIST(root='MNIST_data/', # 다운로드 경로 지정\n",
    "                         train=False, # False를 지정하면 테스트 데이터로 다운로드\n",
    "                         transform=transforms.ToTensor(), # 텐서로 변환\n",
    "                         download=True)"
   ]
  },
  {
   "cell_type": "code",
   "execution_count": 21,
   "id": "8968f974",
   "metadata": {
    "ExecuteTime": {
     "end_time": "2022-03-17T04:13:29.132002Z",
     "start_time": "2022-03-17T04:13:29.129209Z"
    }
   },
   "outputs": [],
   "source": [
    "# 데이터로더를 사용하여 배치 크기를 지정\n",
    "data_loader = torch.utils.data.DataLoader(dataset=mnist_train,\n",
    "                                          batch_size=batch_size,\n",
    "                                          shuffle=True,\n",
    "                                          drop_last=True)"
   ]
  },
  {
   "cell_type": "code",
   "execution_count": 22,
   "id": "3b9e930e",
   "metadata": {
    "ExecuteTime": {
     "end_time": "2022-03-17T04:13:29.137855Z",
     "start_time": "2022-03-17T04:13:29.133090Z"
    }
   },
   "outputs": [],
   "source": [
    "# 클래스로 모델을 설계\n",
    "class CNN(torch.nn.Module):\n",
    "\n",
    "    def __init__(self):\n",
    "        super(CNN, self).__init__()\n",
    "        # 첫번째층\n",
    "        # ImgIn shape=(?, 28, 28, 1)\n",
    "        #    Conv     -> (?, 28, 28, 32)\n",
    "        #    Pool     -> (?, 14, 14, 32)\n",
    "        self.layer1 = torch.nn.Sequential(\n",
    "            torch.nn.Conv2d(1, 32, kernel_size=3, stride=1, padding=1),\n",
    "            torch.nn.ReLU(),\n",
    "            torch.nn.MaxPool2d(kernel_size=2, stride=2)\n",
    "        )\n",
    "\n",
    "        # 두번째층\n",
    "        # ImgIn shape=(?, 14, 14, 32)\n",
    "        #    Conv      ->(?, 14, 14, 64)\n",
    "        #    Pool      ->(?, 7, 7, 64)\n",
    "        self.layer2 = torch.nn.Sequential(\n",
    "            torch.nn.Conv2d(32, 64, kernel_size=3, stride=1, padding=1),\n",
    "            torch.nn.ReLU(),\n",
    "            torch.nn.MaxPool2d(kernel_size=2, stride=2)\n",
    "        )\n",
    "\n",
    "        # 전결합층 7x7x64 inputs -> 10 outputs\n",
    "        self.fc = torch.nn.Linear(7 * 7 * 64, 10, bias=True)\n",
    "\n",
    "        # 전결합층 한정으로 가중치 초기화\n",
    "        torch.nn.init.xavier_uniform_(self.fc.weight)\n",
    "\n",
    "    def forward(self, x):\n",
    "        out = self.layer1(x)\n",
    "        out = self.layer2(out)\n",
    "        out = out.view(out.size(0), -1)   # 전결합층을 위해서 Flatten\n",
    "        out = self.fc(out)\n",
    "        return out"
   ]
  },
  {
   "cell_type": "code",
   "execution_count": 23,
   "id": "0fb739d1",
   "metadata": {
    "ExecuteTime": {
     "end_time": "2022-03-17T04:13:31.386962Z",
     "start_time": "2022-03-17T04:13:29.139073Z"
    }
   },
   "outputs": [
    {
     "data": {
      "text/plain": [
       "CNN(\n",
       "  (layer1): Sequential(\n",
       "    (0): Conv2d(1, 32, kernel_size=(3, 3), stride=(1, 1), padding=(1, 1))\n",
       "    (1): ReLU()\n",
       "    (2): MaxPool2d(kernel_size=2, stride=2, padding=0, dilation=1, ceil_mode=False)\n",
       "  )\n",
       "  (layer2): Sequential(\n",
       "    (0): Conv2d(32, 64, kernel_size=(3, 3), stride=(1, 1), padding=(1, 1))\n",
       "    (1): ReLU()\n",
       "    (2): MaxPool2d(kernel_size=2, stride=2, padding=0, dilation=1, ceil_mode=False)\n",
       "  )\n",
       "  (fc): Linear(in_features=3136, out_features=10, bias=True)\n",
       ")"
      ]
     },
     "execution_count": 23,
     "metadata": {},
     "output_type": "execute_result"
    }
   ],
   "source": [
    "# CNN 모델 정의\n",
    "model = CNN().to(device)\n",
    "model.eval()"
   ]
  },
  {
   "cell_type": "code",
   "execution_count": 25,
   "id": "acfd5464",
   "metadata": {
    "ExecuteTime": {
     "end_time": "2022-03-17T04:13:42.039645Z",
     "start_time": "2022-03-17T04:13:40.654686Z"
    },
    "scrolled": false
   },
   "outputs": [
    {
     "name": "stdout",
     "output_type": "stream",
     "text": [
      "Requirement already satisfied: torchsummary in /home/ml/anaconda3/lib/python3.9/site-packages (1.5.1)\n",
      "Note: you may need to restart the kernel to use updated packages.\n"
     ]
    }
   ],
   "source": [
    "# torch summary는 pip로만 설치 가능\n",
    "pip install torchsummary"
   ]
  },
  {
   "cell_type": "code",
   "execution_count": 26,
   "id": "9e1bf48d",
   "metadata": {
    "ExecuteTime": {
     "end_time": "2022-03-17T04:13:46.621273Z",
     "start_time": "2022-03-17T04:13:46.019584Z"
    }
   },
   "outputs": [
    {
     "name": "stdout",
     "output_type": "stream",
     "text": [
      "----------------------------------------------------------------\n",
      "        Layer (type)               Output Shape         Param #\n",
      "================================================================\n",
      "            Conv2d-1           [-1, 32, 28, 28]             320\n",
      "              ReLU-2           [-1, 32, 28, 28]               0\n",
      "         MaxPool2d-3           [-1, 32, 14, 14]               0\n",
      "            Conv2d-4           [-1, 64, 14, 14]          18,496\n",
      "              ReLU-5           [-1, 64, 14, 14]               0\n",
      "         MaxPool2d-6             [-1, 64, 7, 7]               0\n",
      "            Linear-7                   [-1, 10]          31,370\n",
      "================================================================\n",
      "Total params: 50,186\n",
      "Trainable params: 50,186\n",
      "Non-trainable params: 0\n",
      "----------------------------------------------------------------\n",
      "Input size (MB): 0.00\n",
      "Forward/backward pass size (MB): 0.65\n",
      "Params size (MB): 0.19\n",
      "Estimated Total Size (MB): 0.84\n",
      "----------------------------------------------------------------\n"
     ]
    }
   ],
   "source": [
    "from torchsummary import summary\n",
    "summary(model, (1, 28, 28))"
   ]
  },
  {
   "cell_type": "code",
   "execution_count": 27,
   "id": "d19977bc",
   "metadata": {
    "ExecuteTime": {
     "end_time": "2022-03-17T04:13:46.696436Z",
     "start_time": "2022-03-17T04:13:46.692976Z"
    }
   },
   "outputs": [],
   "source": [
    "# 비용 함수와 옵티마이저를 정의\n",
    "criterion = torch.nn.CrossEntropyLoss().to(device)    # 비용 함수에 소프트맥스 함수 포함되어져 있음.\n",
    "optimizer = torch.optim.Adam(model.parameters(), lr=learning_rate)"
   ]
  },
  {
   "cell_type": "code",
   "execution_count": 28,
   "id": "0dac13e0",
   "metadata": {
    "ExecuteTime": {
     "end_time": "2022-03-17T04:13:46.770253Z",
     "start_time": "2022-03-17T04:13:46.766870Z"
    }
   },
   "outputs": [
    {
     "name": "stdout",
     "output_type": "stream",
     "text": [
      "총 배치의 수 : 600\n"
     ]
    }
   ],
   "source": [
    "# 총 배치의 수를 출력\n",
    "total_batch = len(data_loader)\n",
    "print('총 배치의 수 : {}'.format(total_batch))\n",
    "\n",
    "# 배치 사이즈가 100이고 배치 수가 600이므로 60,000개의 데이터 학습"
   ]
  },
  {
   "cell_type": "code",
   "execution_count": 29,
   "id": "46c06648",
   "metadata": {
    "ExecuteTime": {
     "end_time": "2022-03-17T04:13:46.830069Z",
     "start_time": "2022-03-17T04:13:46.827879Z"
    }
   },
   "outputs": [],
   "source": [
    "# loss, accuracy 시각화\n",
    "cost_list = [] \n",
    "accuracy_list = []"
   ]
  },
  {
   "cell_type": "code",
   "execution_count": 30,
   "id": "f14fea82",
   "metadata": {
    "ExecuteTime": {
     "end_time": "2022-03-17T04:15:29.741668Z",
     "start_time": "2022-03-17T04:13:47.024332Z"
    }
   },
   "outputs": [
    {
     "name": "stderr",
     "output_type": "stream",
     "text": [
      "/home/ml/anaconda3/lib/python3.9/site-packages/torchvision/datasets/mnist.py:80: UserWarning: test_data has been renamed data\n",
      "  warnings.warn(\"test_data has been renamed data\")\n",
      "/home/ml/anaconda3/lib/python3.9/site-packages/torchvision/datasets/mnist.py:70: UserWarning: test_labels has been renamed targets\n",
      "  warnings.warn(\"test_labels has been renamed targets\")\n"
     ]
    },
    {
     "name": "stdout",
     "output_type": "stream",
     "text": [
      "Accuracy: 0.9708999991416931\n",
      "[Epoch:    1] / cost = 0.22210604 / accuracy = 0.970899999\n",
      "Accuracy: 0.973099946975708\n",
      "[Epoch:    2] / cost = 0.0612285137 / accuracy = 0.973099947\n",
      "Accuracy: 0.974399983882904\n",
      "[Epoch:    3] / cost = 0.0452667587 / accuracy = 0.974399984\n",
      "Accuracy: 0.983199954032898\n",
      "[Epoch:    4] / cost = 0.03638722 / accuracy = 0.983199954\n",
      "Accuracy: 0.9836999773979187\n",
      "[Epoch:    5] / cost = 0.0298343189 / accuracy = 0.983699977\n",
      "Accuracy: 0.9875999689102173\n",
      "[Epoch:    6] / cost = 0.0250635073 / accuracy = 0.987599969\n",
      "Accuracy: 0.9847999811172485\n",
      "[Epoch:    7] / cost = 0.0198377017 / accuracy = 0.984799981\n",
      "Accuracy: 0.9812999963760376\n",
      "[Epoch:    8] / cost = 0.0176364519 / accuracy = 0.981299996\n",
      "Accuracy: 0.9853999614715576\n",
      "[Epoch:    9] / cost = 0.0155772269 / accuracy = 0.985399961\n",
      "Accuracy: 0.9860000014305115\n",
      "[Epoch:   10] / cost = 0.012891558 / accuracy = 0.986000001\n",
      "Accuracy: 0.9837999939918518\n",
      "[Epoch:   11] / cost = 0.00992899761 / accuracy = 0.983799994\n",
      "Accuracy: 0.9856999516487122\n",
      "[Epoch:   12] / cost = 0.00926865172 / accuracy = 0.985699952\n",
      "Accuracy: 0.9876999855041504\n",
      "[Epoch:   13] / cost = 0.0075701843 / accuracy = 0.987699986\n",
      "Accuracy: 0.9871999621391296\n",
      "[Epoch:   14] / cost = 0.0070686168 / accuracy = 0.987199962\n",
      "Accuracy: 0.9856999516487122\n",
      "[Epoch:   15] / cost = 0.00558556989 / accuracy = 0.985699952\n",
      "Accuracy: 0.986799955368042\n",
      "[Epoch:   16] / cost = 0.00527775148 / accuracy = 0.986799955\n",
      "Accuracy: 0.9861999750137329\n",
      "[Epoch:   17] / cost = 0.00393045694 / accuracy = 0.986199975\n",
      "Accuracy: 0.9865999817848206\n",
      "[Epoch:   18] / cost = 0.00468609296 / accuracy = 0.986599982\n",
      "Accuracy: 0.9817000031471252\n",
      "[Epoch:   19] / cost = 0.00467786053 / accuracy = 0.981700003\n",
      "Accuracy: 0.9855999946594238\n",
      "[Epoch:   20] / cost = 0.00437510759 / accuracy = 0.985599995\n"
     ]
    }
   ],
   "source": [
    "# 모델 train\n",
    "for epoch in range(training_epochs):\n",
    "    avg_cost = 0\n",
    "    \n",
    "    # X = images, Y = labels\n",
    "    for X, Y in data_loader: # 미니 배치 단위로 꺼내온다. X는 미니 배치, Y는 레이블.\n",
    "        # image is already size of (28x28), no reshape\n",
    "        # label is not one-hot encoded\n",
    "        X = X.to(device)\n",
    "        Y = Y.to(device)\n",
    "        \n",
    "        #forward\n",
    "        hypothesis = model(X)\n",
    "        cost = criterion(hypothesis, Y)\n",
    "        optimizer.zero_grad()    \n",
    "        \n",
    "        #backward\n",
    "        cost.backward()\n",
    "        \n",
    "        # update\n",
    "        optimizer.step()\n",
    "\n",
    "        avg_cost += cost / total_batch\n",
    "\n",
    "    # 학습을 진행하지 않을 것이므로 torch.no_grad()\n",
    "    with torch.no_grad():\n",
    "        X_test = mnist_test.test_data.view(len(mnist_test), 1, 28, 28).float().to(device)\n",
    "        Y_test = mnist_test.test_labels.to(device)\n",
    "\n",
    "        prediction = model(X_test)\n",
    "        correct_prediction = torch.argmax(prediction, 1) == Y_test\n",
    "        accuracy = correct_prediction.float().mean()\n",
    "        print('Accuracy:', accuracy.item())\n",
    "        \n",
    "        accuracy_list.append(accuracy)\n",
    "        cost_list.append(avg_cost)\n",
    "    \n",
    "    \n",
    "    print('[Epoch: {:>4}] / cost = {:>.9} / accuracy = {:>.9}'.format(epoch + 1, avg_cost, accuracy))"
   ]
  },
  {
   "cell_type": "code",
   "execution_count": 31,
   "id": "4bd7e5d2",
   "metadata": {
    "ExecuteTime": {
     "end_time": "2022-03-17T04:15:30.191921Z",
     "start_time": "2022-03-17T04:15:29.989610Z"
    }
   },
   "outputs": [],
   "source": [
    "import matplotlib.pyplot as plt"
   ]
  },
  {
   "cell_type": "code",
   "execution_count": 32,
   "id": "6cb54090",
   "metadata": {
    "ExecuteTime": {
     "end_time": "2022-03-17T04:15:30.472151Z",
     "start_time": "2022-03-17T04:15:30.466516Z"
    }
   },
   "outputs": [
    {
     "data": {
      "text/plain": [
       "[array(0.22210604, dtype=float32),\n",
       " array(0.06122851, dtype=float32),\n",
       " array(0.04526676, dtype=float32),\n",
       " array(0.03638722, dtype=float32),\n",
       " array(0.02983432, dtype=float32),\n",
       " array(0.02506351, dtype=float32),\n",
       " array(0.0198377, dtype=float32),\n",
       " array(0.01763645, dtype=float32),\n",
       " array(0.01557723, dtype=float32),\n",
       " array(0.01289156, dtype=float32),\n",
       " array(0.009929, dtype=float32),\n",
       " array(0.00926865, dtype=float32),\n",
       " array(0.00757018, dtype=float32),\n",
       " array(0.00706862, dtype=float32),\n",
       " array(0.00558557, dtype=float32),\n",
       " array(0.00527775, dtype=float32),\n",
       " array(0.00393046, dtype=float32),\n",
       " array(0.00468609, dtype=float32),\n",
       " array(0.00467786, dtype=float32),\n",
       " array(0.00437511, dtype=float32)]"
      ]
     },
     "execution_count": 32,
     "metadata": {},
     "output_type": "execute_result"
    }
   ],
   "source": [
    "cost_list_arr = []\n",
    "for cost in cost_list:\n",
    "    cost_list_arr.append(cost.detach().cpu().numpy())\n",
    "cost_list_arr"
   ]
  },
  {
   "cell_type": "code",
   "execution_count": 33,
   "id": "df0906b6",
   "metadata": {
    "ExecuteTime": {
     "end_time": "2022-03-17T04:15:30.762625Z",
     "start_time": "2022-03-17T04:15:30.757634Z"
    }
   },
   "outputs": [
    {
     "data": {
      "text/plain": [
       "[array(0.9709, dtype=float32),\n",
       " array(0.97309995, dtype=float32),\n",
       " array(0.9744, dtype=float32),\n",
       " array(0.98319995, dtype=float32),\n",
       " array(0.9837, dtype=float32),\n",
       " array(0.98759997, dtype=float32),\n",
       " array(0.9848, dtype=float32),\n",
       " array(0.9813, dtype=float32),\n",
       " array(0.98539996, dtype=float32),\n",
       " array(0.986, dtype=float32),\n",
       " array(0.9838, dtype=float32),\n",
       " array(0.98569995, dtype=float32),\n",
       " array(0.9877, dtype=float32),\n",
       " array(0.98719996, dtype=float32),\n",
       " array(0.98569995, dtype=float32),\n",
       " array(0.98679996, dtype=float32),\n",
       " array(0.9862, dtype=float32),\n",
       " array(0.9866, dtype=float32),\n",
       " array(0.9817, dtype=float32),\n",
       " array(0.9856, dtype=float32)]"
      ]
     },
     "execution_count": 33,
     "metadata": {},
     "output_type": "execute_result"
    }
   ],
   "source": [
    "accuracy_list_arr = []\n",
    "for accuracy in accuracy_list:\n",
    "    accuracy_list_arr.append(accuracy.detach().cpu().numpy())\n",
    "accuracy_list_arr"
   ]
  },
  {
   "cell_type": "code",
   "execution_count": 34,
   "id": "907a19ba",
   "metadata": {
    "ExecuteTime": {
     "end_time": "2022-03-17T04:15:31.025414Z",
     "start_time": "2022-03-17T04:15:31.022395Z"
    }
   },
   "outputs": [
    {
     "data": {
      "text/plain": [
       "20"
      ]
     },
     "execution_count": 34,
     "metadata": {},
     "output_type": "execute_result"
    }
   ],
   "source": [
    "len(accuracy_list_arr)"
   ]
  },
  {
   "cell_type": "code",
   "execution_count": 36,
   "id": "a6a8d856",
   "metadata": {
    "ExecuteTime": {
     "end_time": "2022-03-17T04:16:50.366045Z",
     "start_time": "2022-03-17T04:16:50.161706Z"
    }
   },
   "outputs": [
    {
     "data": {
      "image/png": "[encoded data removed]",
      "text/plain": [
       "<Figure size 720x360 with 2 Axes>"
      ]
     },
     "metadata": {
      "needs_background": "light"
     },
     "output_type": "display_data"
    }
   ],
   "source": [
    "x = np.arange(0,training_epochs)\n",
    "\n",
    "plt.figure(figsize=(10,5)) \n",
    "plt.subplot(1,2,1) \n",
    "plt.xlabel('Epoch') \n",
    "plt.ylabel('Cost') \n",
    "plt.plot(x,cost_list_arr) \n",
    "\n",
    "plt.subplot(1,2,2) \n",
    "plt.xlabel('Epoch') \n",
    "plt.ylabel('Accuracy') \n",
    "plt.plot(x, accuracy_list_arr) \n",
    "\n",
    "plt.show()"
   ]
  },
  {
   "cell_type": "code",
   "execution_count": null,
   "id": "975537b2",
   "metadata": {},
   "outputs": [],
   "source": []
  }
 ],
 "metadata": {
  "hide_input": false,
  "kernelspec": {
   "display_name": "song",
   "language": "python",
   "name": "song"
  },
  "language_info": {
   "codemirror_mode": {
    "name": "ipython",
    "version": 3
   },
   "file_extension": ".py",
   "mimetype": "text/x-python",
   "name": "python",
   "nbconvert_exporter": "python",
   "pygments_lexer": "ipython3",
   "version": "3.9.7"
  },
  "toc": {
   "base_numbering": 1,
   "nav_menu": {},
   "number_sections": true,
   "sideBar": true,
   "skip_h1_title": false,
   "title_cell": "Table of Contents",
   "title_sidebar": "Contents",
   "toc_cell": false,
   "toc_position": {},
   "toc_section_display": true,
   "toc_window_display": false
  },
  "varInspector": {
   "cols": {
    "lenName": 16,
    "lenType": 16,
    "lenVar": 40
   },
   "kernels_config": {
    "python": {
     "delete_cmd_postfix": "",
     "delete_cmd_prefix": "del ",
     "library": "var_list.py",
     "varRefreshCmd": "print(var_dic_list())"
    },
    "r": {
     "delete_cmd_postfix": ") ",
     "delete_cmd_prefix": "rm(",
     "library": "var_list.r",
     "varRefreshCmd": "cat(var_dic_list()) "
    }
   },
   "types_to_exclude": [
    "module",
    "function",
    "builtin_function_or_method",
    "instance",
    "_Feature"
   ],
   "window_display": false
  }
 },
 "nbformat": 4,
 "nbformat_minor": 5
}
