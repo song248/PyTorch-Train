{
 "cells": [
  {
   "cell_type": "code",
   "execution_count": 1,
   "id": "8187f960",
   "metadata": {
    "ExecuteTime": {
     "end_time": "2022-03-17T05:30:24.170458Z",
     "start_time": "2022-03-17T05:30:23.840830Z"
    }
   },
   "outputs": [
    {
     "name": "stdout",
     "output_type": "stream",
     "text": [
      "Thu Mar 17 14:30:23 2022       \n",
      "+-----------------------------------------------------------------------------+\n",
      "| NVIDIA-SMI 460.91.03    Driver Version: 460.91.03    CUDA Version: 11.2     |\n",
      "|-------------------------------+----------------------+----------------------+\n",
      "| GPU  Name        Persistence-M| Bus-Id        Disp.A | Volatile Uncorr. ECC |\n",
      "| Fan  Temp  Perf  Pwr:Usage/Cap|         Memory-Usage | GPU-Util  Compute M. |\n",
      "|                               |                      |               MIG M. |\n",
      "|===============================+======================+======================|\n",
      "|   0  GeForce RTX 3090    On   | 00000000:19:00.0 Off |                  N/A |\n",
      "| 30%   31C    P8    17W / 350W |      5MiB / 24268MiB |      0%      Default |\n",
      "|                               |                      |                  N/A |\n",
      "+-------------------------------+----------------------+----------------------+\n",
      "|   1  GeForce RTX 3090    On   | 00000000:1A:00.0 Off |                  N/A |\n",
      "| 30%   39C    P8    19W / 350W |      5MiB / 24268MiB |      0%      Default |\n",
      "|                               |                      |                  N/A |\n",
      "+-------------------------------+----------------------+----------------------+\n",
      "|   2  GeForce RTX 3090    On   | 00000000:67:00.0 Off |                  N/A |\n",
      "| 30%   42C    P8    31W / 350W |      5MiB / 24268MiB |      0%      Default |\n",
      "|                               |                      |                  N/A |\n",
      "+-------------------------------+----------------------+----------------------+\n",
      "|   3  GeForce RTX 3090    On   | 00000000:68:00.0 Off |                  N/A |\n",
      "| 30%   43C    P8    23W / 350W |     19MiB / 24265MiB |      0%      Default |\n",
      "|                               |                      |                  N/A |\n",
      "+-------------------------------+----------------------+----------------------+\n",
      "                                                                               \n",
      "+-----------------------------------------------------------------------------+\n",
      "| Processes:                                                                  |\n",
      "|  GPU   GI   CI        PID   Type   Process name                  GPU Memory |\n",
      "|        ID   ID                                                   Usage      |\n",
      "|=============================================================================|\n",
      "|    0   N/A  N/A      1456      G   /usr/lib/xorg/Xorg                  4MiB |\n",
      "|    1   N/A  N/A      1456      G   /usr/lib/xorg/Xorg                  4MiB |\n",
      "|    2   N/A  N/A      1456      G   /usr/lib/xorg/Xorg                  4MiB |\n",
      "|    3   N/A  N/A      1456      G   /usr/lib/xorg/Xorg                  9MiB |\n",
      "|    3   N/A  N/A      1652      G   /usr/bin/gnome-shell                8MiB |\n",
      "+-----------------------------------------------------------------------------+\n"
     ]
    }
   ],
   "source": [
    "!nvidia-smi"
   ]
  },
  {
   "cell_type": "code",
   "execution_count": 2,
   "id": "dd1b4605",
   "metadata": {
    "ExecuteTime": {
     "end_time": "2022-03-17T05:30:25.301765Z",
     "start_time": "2022-03-17T05:30:25.296857Z"
    }
   },
   "outputs": [],
   "source": [
    "import os\n",
    "os.environ[\"CUDA_DEVICE_ORDER\"] = \"PCI_BUS_ID\"\n",
    "os.environ[\"CUDA_VISIBLE_DEVICES\"] = \"1\""
   ]
  },
  {
   "cell_type": "code",
   "execution_count": 3,
   "id": "76705cbb",
   "metadata": {
    "ExecuteTime": {
     "end_time": "2022-03-17T05:30:28.272194Z",
     "start_time": "2022-03-17T05:30:27.775344Z"
    }
   },
   "outputs": [
    {
     "name": "stdout",
     "output_type": "stream",
     "text": [
      "Device: cuda\n",
      "Current cuda device: 0\n",
      "Count of using GPUs: 1\n"
     ]
    }
   ],
   "source": [
    "import torch\n",
    "\n",
    "device = torch.device(\"cuda\" if torch.cuda.is_available() else \"cpu\")\n",
    "\n",
    "print('Device:', device)\n",
    "print('Current cuda device:', torch.cuda.current_device())\n",
    "print('Count of using GPUs:', torch.cuda.device_count())"
   ]
  },
  {
   "cell_type": "markdown",
   "id": "f5c08ec5",
   "metadata": {},
   "source": [
    "### 모델 이해하기"
   ]
  },
  {
   "cell_type": "markdown",
   "id": "43c00229",
   "metadata": {
    "hide_input": false
   },
   "source": [
    "#### 첫번째 표기 방법\n",
    "합성곱(nn.Cov2d) + 활성화 함수(nn.ReLU)를 하나의 합성곱 층으로 보고, 맥스풀링(nn.MaxPoold2d)은 풀링 층으로 별도로 명명  \n",
    "  \n",
    "#### 두번째 표기 방법\n",
    "합성곱(nn.Conv2d) + 활성화 함수(nn.ReLU) + 맥스풀링(nn.MaxPoold2d)을 하나의 합성곱 층으로 간주"
   ]
  },
  {
   "cell_type": "markdown",
   "id": "6e44bb67",
   "metadata": {},
   "source": [
    "### 모델 구현"
   ]
  },
  {
   "cell_type": "markdown",
   "id": "3a289be9",
   "metadata": {},
   "source": [
    "#### 필요한 도구 임포트, 입력 정의"
   ]
  },
  {
   "cell_type": "code",
   "execution_count": 4,
   "id": "db0f32f9",
   "metadata": {
    "ExecuteTime": {
     "end_time": "2022-03-17T05:30:35.772010Z",
     "start_time": "2022-03-17T05:30:35.767534Z"
    }
   },
   "outputs": [],
   "source": [
    "import torch\n",
    "import torch.nn as nn"
   ]
  },
  {
   "cell_type": "code",
   "execution_count": 5,
   "id": "1f995d15",
   "metadata": {
    "ExecuteTime": {
     "end_time": "2022-03-17T05:30:36.068731Z",
     "start_time": "2022-03-17T05:30:36.062706Z"
    }
   },
   "outputs": [
    {
     "name": "stdout",
     "output_type": "stream",
     "text": [
      "텐서의 크기 : torch.Size([1, 1, 28, 28])\n"
     ]
    }
   ],
   "source": [
    "# 배치 크기 × 채널 × 높이(height) × 너비(widht)의 크기의 텐서를 선언\n",
    "inputs = torch.Tensor(1, 1, 28, 28)\n",
    "print('텐서의 크기 : {}'.format(inputs.shape))"
   ]
  },
  {
   "cell_type": "markdown",
   "id": "a1a78f72",
   "metadata": {},
   "source": [
    "#### 합성곱층과 풀링 선언"
   ]
  },
  {
   "cell_type": "code",
   "execution_count": 6,
   "id": "af32d9f6",
   "metadata": {
    "ExecuteTime": {
     "end_time": "2022-03-17T05:30:36.503267Z",
     "start_time": "2022-03-17T05:30:36.496167Z"
    }
   },
   "outputs": [
    {
     "name": "stdout",
     "output_type": "stream",
     "text": [
      "Conv2d(1, 32, kernel_size=(3, 3), stride=(1, 1), padding=(1, 1))\n"
     ]
    }
   ],
   "source": [
    "# 1채널 짜리를 입력받아서 32채널을 뽑아내는데 커널 사이즈는 3이고 패딩은 1\n",
    "conv1 = nn.Conv2d(1, 32, 3, padding=1)\n",
    "print(conv1)"
   ]
  },
  {
   "cell_type": "code",
   "execution_count": 7,
   "id": "7254cfcf",
   "metadata": {
    "ExecuteTime": {
     "end_time": "2022-03-17T05:30:36.675943Z",
     "start_time": "2022-03-17T05:30:36.669943Z"
    }
   },
   "outputs": [
    {
     "name": "stdout",
     "output_type": "stream",
     "text": [
      "Conv2d(32, 64, kernel_size=(3, 3), stride=(1, 1), padding=(1, 1))\n"
     ]
    }
   ],
   "source": [
    "# 32채널 짜리를 입력받아서 64채널을 뽑아내는데 커널 사이즈는 3이고 패딩은 1\n",
    "conv2 = nn.Conv2d(32, 64, kernel_size=3, padding=1)\n",
    "print(conv2)"
   ]
  },
  {
   "cell_type": "code",
   "execution_count": 8,
   "id": "72c07ce7",
   "metadata": {
    "ExecuteTime": {
     "end_time": "2022-03-17T05:30:36.830681Z",
     "start_time": "2022-03-17T05:30:36.825338Z"
    }
   },
   "outputs": [
    {
     "name": "stdout",
     "output_type": "stream",
     "text": [
      "MaxPool2d(kernel_size=2, stride=2, padding=0, dilation=1, ceil_mode=False)\n"
     ]
    }
   ],
   "source": [
    "# 정수 하나를 인자로 넣으면 커널 사이즈와 스트라이드가 둘 다 해당값으로 지정\n",
    "pool = nn.MaxPool2d(2)\n",
    "print(pool)"
   ]
  },
  {
   "cell_type": "markdown",
   "id": "a7db2ca9",
   "metadata": {},
   "source": [
    "#### 구현체 연결, 모델 만들기"
   ]
  },
  {
   "cell_type": "code",
   "execution_count": 9,
   "id": "548cbbb1",
   "metadata": {
    "ExecuteTime": {
     "end_time": "2022-03-17T05:30:37.141512Z",
     "start_time": "2022-03-17T05:30:37.133483Z"
    }
   },
   "outputs": [
    {
     "name": "stdout",
     "output_type": "stream",
     "text": [
      "torch.Size([1, 32, 28, 28])\n"
     ]
    }
   ],
   "source": [
    "# 입력을 첫번째 합성곱층을 통과시키고 합성곱층을 통과시킨 후의 텐서의 크기\n",
    "out = conv1(inputs)\n",
    "print(out.shape)"
   ]
  },
  {
   "cell_type": "code",
   "execution_count": 10,
   "id": "6ba86008",
   "metadata": {
    "ExecuteTime": {
     "end_time": "2022-03-17T05:30:37.284511Z",
     "start_time": "2022-03-17T05:30:37.280620Z"
    }
   },
   "outputs": [
    {
     "name": "stdout",
     "output_type": "stream",
     "text": [
      "torch.Size([1, 32, 14, 14])\n"
     ]
    }
   ],
   "source": [
    "# 맥스풀링을 통과시키고 맥스풀링을 통과한 후의 텐서의 크기\n",
    "out = pool(out)\n",
    "print(out.shape)"
   ]
  },
  {
   "cell_type": "code",
   "execution_count": 11,
   "id": "a59a3df7",
   "metadata": {
    "ExecuteTime": {
     "end_time": "2022-03-17T05:30:37.427837Z",
     "start_time": "2022-03-17T05:30:37.425489Z"
    }
   },
   "outputs": [
    {
     "name": "stdout",
     "output_type": "stream",
     "text": [
      "torch.Size([1, 64, 14, 14])\n"
     ]
    }
   ],
   "source": [
    "# 두번째 합성곱층에 통과시키고 통과한 후의 텐서의 크기\n",
    "out = conv2(out)\n",
    "print(out.shape)"
   ]
  },
  {
   "cell_type": "code",
   "execution_count": 12,
   "id": "06f865e3",
   "metadata": {
    "ExecuteTime": {
     "end_time": "2022-03-17T05:30:37.600333Z",
     "start_time": "2022-03-17T05:30:37.597646Z"
    }
   },
   "outputs": [
    {
     "name": "stdout",
     "output_type": "stream",
     "text": [
      "torch.Size([1, 64, 7, 7])\n"
     ]
    }
   ],
   "source": [
    "# 맥스풀링을 통과시키고 맥스풀링을 통과한 후의 텐서의 크기\n",
    "out = pool(out)\n",
    "print(out.shape)"
   ]
  },
  {
   "cell_type": "code",
   "execution_count": 13,
   "id": "e6e8dd49",
   "metadata": {
    "ExecuteTime": {
     "end_time": "2022-03-17T05:30:37.793801Z",
     "start_time": "2022-03-17T05:30:37.785802Z"
    }
   },
   "outputs": [
    {
     "data": {
      "text/plain": [
       "1"
      ]
     },
     "execution_count": 13,
     "metadata": {},
     "output_type": "execute_result"
    }
   ],
   "source": [
    "# 텐서 펼치기\n",
    "out.size(0)"
   ]
  },
  {
   "cell_type": "code",
   "execution_count": 14,
   "id": "43237d79",
   "metadata": {
    "ExecuteTime": {
     "end_time": "2022-03-17T05:30:37.979144Z",
     "start_time": "2022-03-17T05:30:37.972932Z"
    }
   },
   "outputs": [
    {
     "data": {
      "text/plain": [
       "64"
      ]
     },
     "execution_count": 14,
     "metadata": {},
     "output_type": "execute_result"
    }
   ],
   "source": [
    "out.size(1)"
   ]
  },
  {
   "cell_type": "code",
   "execution_count": 15,
   "id": "177e733f",
   "metadata": {
    "ExecuteTime": {
     "end_time": "2022-03-17T05:30:38.160814Z",
     "start_time": "2022-03-17T05:30:38.154609Z"
    }
   },
   "outputs": [
    {
     "data": {
      "text/plain": [
       "7"
      ]
     },
     "execution_count": 15,
     "metadata": {},
     "output_type": "execute_result"
    }
   ],
   "source": [
    "out.size(2)"
   ]
  },
  {
   "cell_type": "code",
   "execution_count": 16,
   "id": "2be07d4e",
   "metadata": {
    "ExecuteTime": {
     "end_time": "2022-03-17T05:30:38.359168Z",
     "start_time": "2022-03-17T05:30:38.353142Z"
    }
   },
   "outputs": [
    {
     "data": {
      "text/plain": [
       "7"
      ]
     },
     "execution_count": 16,
     "metadata": {},
     "output_type": "execute_result"
    }
   ],
   "source": [
    "out.size(3)"
   ]
  },
  {
   "cell_type": "code",
   "execution_count": 17,
   "id": "4a74365d",
   "metadata": {
    "ExecuteTime": {
     "end_time": "2022-03-17T05:30:38.542843Z",
     "start_time": "2022-03-17T05:30:38.537357Z"
    }
   },
   "outputs": [
    {
     "name": "stdout",
     "output_type": "stream",
     "text": [
      "torch.Size([1, 3136])\n"
     ]
    }
   ],
   "source": [
    "# 첫번째 차원인 배치 차원은 그대로 두고 나머지는 펼치는 작업\n",
    "out = out.view(out.size(0), -1) \n",
    "print(out.shape)\n",
    "# 배치 차원을 제외하고 모두 하나의 차원으로 통합"
   ]
  },
  {
   "cell_type": "code",
   "execution_count": 18,
   "id": "b20a3d16",
   "metadata": {
    "ExecuteTime": {
     "end_time": "2022-03-17T05:30:38.760878Z",
     "start_time": "2022-03-17T05:30:38.754068Z"
    }
   },
   "outputs": [
    {
     "name": "stdout",
     "output_type": "stream",
     "text": [
      "torch.Size([1, 10])\n"
     ]
    }
   ],
   "source": [
    "# 전결합층(Fully-Connteced layer)를 통과\n",
    "# 출력층으로 10개의 뉴런을 배치하여 10개 차원의 텐서로 변환\n",
    "fc = nn.Linear(3136, 10) # input_dim = 3,136, output_dim = 10\n",
    "out = fc(out)\n",
    "print(out.shape)"
   ]
  },
  {
   "cell_type": "markdown",
   "id": "dc685ab0",
   "metadata": {},
   "source": [
    "### CNN으로 MNIST 분류"
   ]
  },
  {
   "cell_type": "code",
   "execution_count": 19,
   "id": "082578fa",
   "metadata": {
    "ExecuteTime": {
     "end_time": "2022-03-17T05:30:39.503610Z",
     "start_time": "2022-03-17T05:30:39.393597Z"
    }
   },
   "outputs": [],
   "source": [
    "import torch\n",
    "import torchvision.datasets as dsets\n",
    "import torchvision.transforms as transforms\n",
    "import torch.nn.init"
   ]
  },
  {
   "cell_type": "code",
   "execution_count": 20,
   "id": "8d17daf8",
   "metadata": {
    "ExecuteTime": {
     "end_time": "2022-03-17T05:30:39.711643Z",
     "start_time": "2022-03-17T05:30:39.706321Z"
    }
   },
   "outputs": [],
   "source": [
    "# GPU를 사용 가능하다면 device 값이 cuda가 되고, 아니라면 cpu\n",
    "device = 'cuda' if torch.cuda.is_available() else 'cpu'\n",
    "\n",
    "# 랜덤 시드 고정\n",
    "torch.manual_seed(777)\n",
    "\n",
    "# GPU 사용 가능일 경우 랜덤 시드 고정\n",
    "if device == 'cuda':\n",
    "    torch.cuda.manual_seed_all(777)"
   ]
  },
  {
   "cell_type": "code",
   "execution_count": 21,
   "id": "0e826bf4",
   "metadata": {
    "ExecuteTime": {
     "end_time": "2022-03-17T05:30:40.574780Z",
     "start_time": "2022-03-17T05:30:40.569211Z"
    }
   },
   "outputs": [
    {
     "name": "stdout",
     "output_type": "stream",
     "text": [
      "cuda\n"
     ]
    }
   ],
   "source": [
    "print(device)"
   ]
  },
  {
   "cell_type": "code",
   "execution_count": 22,
   "id": "58d34589",
   "metadata": {
    "ExecuteTime": {
     "end_time": "2022-03-17T05:30:40.788991Z",
     "start_time": "2022-03-17T05:30:40.784026Z"
    }
   },
   "outputs": [
    {
     "name": "stdout",
     "output_type": "stream",
     "text": [
      "GPU 사용 유무>> True\n"
     ]
    }
   ],
   "source": [
    "print(\"GPU 사용 유무>>\", torch.cuda.is_available())"
   ]
  },
  {
   "cell_type": "code",
   "execution_count": 23,
   "id": "b946c420",
   "metadata": {
    "ExecuteTime": {
     "end_time": "2022-03-17T05:30:41.214788Z",
     "start_time": "2022-03-17T05:30:41.210168Z"
    }
   },
   "outputs": [],
   "source": [
    "# 학습에 사용할 파라미터\n",
    "learning_rate = 0.001\n",
    "training_epochs = 20\n",
    "batch_size = 100"
   ]
  },
  {
   "cell_type": "code",
   "execution_count": 24,
   "id": "cc4265e9",
   "metadata": {
    "ExecuteTime": {
     "end_time": "2022-03-17T05:30:42.378816Z",
     "start_time": "2022-03-17T05:30:42.295690Z"
    }
   },
   "outputs": [],
   "source": [
    "# 데이터로더를 사용하여 데이터를 다루기 위해서 데이터셋을 정의\n",
    "mnist_train = dsets.MNIST(root='MNIST_data/', # 다운로드 경로 지정\n",
    "                          train=True, # True를 지정하면 훈련 데이터로 다운로드\n",
    "                          transform=transforms.ToTensor(), # 텐서로 변환\n",
    "                          download=True)\n",
    "\n",
    "mnist_test = dsets.MNIST(root='MNIST_data/', # 다운로드 경로 지정\n",
    "                         train=False, # False를 지정하면 테스트 데이터로 다운로드\n",
    "                         transform=transforms.ToTensor(), # 텐서로 변환\n",
    "                         download=True)"
   ]
  },
  {
   "cell_type": "code",
   "execution_count": 25,
   "id": "1d36b8da",
   "metadata": {
    "ExecuteTime": {
     "end_time": "2022-03-17T05:30:42.721482Z",
     "start_time": "2022-03-17T05:30:42.716573Z"
    }
   },
   "outputs": [],
   "source": [
    "# 데이터로더를 사용하여 배치 크기를 지정\n",
    "data_loader = torch.utils.data.DataLoader(dataset=mnist_train,\n",
    "                                          batch_size=batch_size,\n",
    "                                          shuffle=True,\n",
    "                                          drop_last=True)"
   ]
  },
  {
   "cell_type": "code",
   "execution_count": 26,
   "id": "7768b3bf",
   "metadata": {
    "ExecuteTime": {
     "end_time": "2022-03-17T05:30:42.992176Z",
     "start_time": "2022-03-17T05:30:42.979542Z"
    }
   },
   "outputs": [],
   "source": [
    "# 클래스로 모델을 설계\n",
    "class CNN(torch.nn.Module):\n",
    "\n",
    "    def __init__(self):\n",
    "        super(CNN, self).__init__()\n",
    "        # 첫번째층\n",
    "        # ImgIn shape=(?, 28, 28, 1)\n",
    "        #    Conv     -> (?, 28, 28, 32)\n",
    "        #    Pool     -> (?, 14, 14, 32)\n",
    "        self.layer1 = torch.nn.Sequential(\n",
    "            torch.nn.Conv2d(1, 32, kernel_size=3, stride=1, padding=1),\n",
    "            torch.nn.ReLU(),\n",
    "            torch.nn.MaxPool2d(kernel_size=2, stride=2)\n",
    "        )\n",
    "\n",
    "        # 두번째층\n",
    "        # ImgIn shape=(?, 14, 14, 32)\n",
    "        #    Conv      ->(?, 14, 14, 64)\n",
    "        #    Pool      ->(?, 7, 7, 64)\n",
    "        self.layer2 = torch.nn.Sequential(\n",
    "            torch.nn.Conv2d(32, 64, kernel_size=3, stride=1, padding=1),\n",
    "            torch.nn.ReLU(),\n",
    "            torch.nn.MaxPool2d(kernel_size=2, stride=2)\n",
    "        )\n",
    "\n",
    "        # 전결합층 7x7x64 inputs -> 10 outputs\n",
    "        self.fc = torch.nn.Linear(7 * 7 * 64, 10, bias=True)\n",
    "\n",
    "        # 전결합층 한정으로 가중치 초기화\n",
    "        torch.nn.init.xavier_uniform_(self.fc.weight)\n",
    "\n",
    "    def forward(self, x):\n",
    "        out = self.layer1(x)\n",
    "        out = self.layer2(out)\n",
    "        out = out.view(out.size(0), -1)   # 전결합층을 위해서 Flatten\n",
    "        out = self.fc(out)\n",
    "        return out"
   ]
  },
  {
   "cell_type": "code",
   "execution_count": 27,
   "id": "419caa61",
   "metadata": {
    "ExecuteTime": {
     "end_time": "2022-03-17T05:30:45.745086Z",
     "start_time": "2022-03-17T05:30:43.345917Z"
    }
   },
   "outputs": [
    {
     "data": {
      "text/plain": [
       "CNN(\n",
       "  (layer1): Sequential(\n",
       "    (0): Conv2d(1, 32, kernel_size=(3, 3), stride=(1, 1), padding=(1, 1))\n",
       "    (1): ReLU()\n",
       "    (2): MaxPool2d(kernel_size=2, stride=2, padding=0, dilation=1, ceil_mode=False)\n",
       "  )\n",
       "  (layer2): Sequential(\n",
       "    (0): Conv2d(32, 64, kernel_size=(3, 3), stride=(1, 1), padding=(1, 1))\n",
       "    (1): ReLU()\n",
       "    (2): MaxPool2d(kernel_size=2, stride=2, padding=0, dilation=1, ceil_mode=False)\n",
       "  )\n",
       "  (fc): Linear(in_features=3136, out_features=10, bias=True)\n",
       ")"
      ]
     },
     "execution_count": 27,
     "metadata": {},
     "output_type": "execute_result"
    }
   ],
   "source": [
    "# CNN 모델 정의\n",
    "model = CNN().to(device)\n",
    "model.eval()"
   ]
  },
  {
   "cell_type": "code",
   "execution_count": 28,
   "id": "675dde1b",
   "metadata": {
    "ExecuteTime": {
     "end_time": "2022-03-17T05:30:45.776206Z",
     "start_time": "2022-03-17T05:30:45.773816Z"
    },
    "scrolled": false
   },
   "outputs": [],
   "source": [
    "# torch summary는 pip로만 설치 가능\n",
    "#pip install torchsummary"
   ]
  },
  {
   "cell_type": "code",
   "execution_count": 29,
   "id": "a90462a0",
   "metadata": {
    "ExecuteTime": {
     "end_time": "2022-03-17T05:30:46.434992Z",
     "start_time": "2022-03-17T05:30:45.824791Z"
    }
   },
   "outputs": [
    {
     "name": "stdout",
     "output_type": "stream",
     "text": [
      "----------------------------------------------------------------\n",
      "        Layer (type)               Output Shape         Param #\n",
      "================================================================\n",
      "            Conv2d-1           [-1, 32, 28, 28]             320\n",
      "              ReLU-2           [-1, 32, 28, 28]               0\n",
      "         MaxPool2d-3           [-1, 32, 14, 14]               0\n",
      "            Conv2d-4           [-1, 64, 14, 14]          18,496\n",
      "              ReLU-5           [-1, 64, 14, 14]               0\n",
      "         MaxPool2d-6             [-1, 64, 7, 7]               0\n",
      "            Linear-7                   [-1, 10]          31,370\n",
      "================================================================\n",
      "Total params: 50,186\n",
      "Trainable params: 50,186\n",
      "Non-trainable params: 0\n",
      "----------------------------------------------------------------\n",
      "Input size (MB): 0.00\n",
      "Forward/backward pass size (MB): 0.65\n",
      "Params size (MB): 0.19\n",
      "Estimated Total Size (MB): 0.84\n",
      "----------------------------------------------------------------\n"
     ]
    }
   ],
   "source": [
    "from torchsummary import summary\n",
    "summary(model, (1, 28, 28))"
   ]
  },
  {
   "cell_type": "code",
   "execution_count": 30,
   "id": "25a22b21",
   "metadata": {
    "ExecuteTime": {
     "end_time": "2022-03-17T05:30:46.471696Z",
     "start_time": "2022-03-17T05:30:46.467170Z"
    }
   },
   "outputs": [],
   "source": [
    "# 비용 함수와 옵티마이저를 정의\n",
    "criterion = torch.nn.CrossEntropyLoss().to(device)    # 비용 함수에 소프트맥스 함수 포함되어져 있음.\n",
    "optimizer = torch.optim.Adam(model.parameters(), lr=learning_rate)"
   ]
  },
  {
   "cell_type": "code",
   "execution_count": 31,
   "id": "aeab5688",
   "metadata": {
    "ExecuteTime": {
     "end_time": "2022-03-17T05:30:46.514863Z",
     "start_time": "2022-03-17T05:30:46.511614Z"
    }
   },
   "outputs": [
    {
     "name": "stdout",
     "output_type": "stream",
     "text": [
      "총 배치의 수 : 600\n"
     ]
    }
   ],
   "source": [
    "# 총 배치의 수를 출력\n",
    "total_batch = len(data_loader)\n",
    "print('총 배치의 수 : {}'.format(total_batch))\n",
    "\n",
    "# 배치 사이즈가 100이고 배치 수가 600이므로 60,000개의 데이터 학습"
   ]
  },
  {
   "cell_type": "code",
   "execution_count": 32,
   "id": "5812a58f",
   "metadata": {
    "ExecuteTime": {
     "end_time": "2022-03-17T05:30:46.550028Z",
     "start_time": "2022-03-17T05:30:46.547529Z"
    }
   },
   "outputs": [],
   "source": [
    "# loss, accuracy 시각화\n",
    "cost_list = [] \n",
    "accuracy_list = []"
   ]
  },
  {
   "cell_type": "code",
   "execution_count": 33,
   "id": "29124dc8",
   "metadata": {
    "ExecuteTime": {
     "end_time": "2022-03-17T05:32:25.306841Z",
     "start_time": "2022-03-17T05:30:46.592005Z"
    }
   },
   "outputs": [
    {
     "name": "stderr",
     "output_type": "stream",
     "text": [
      "/compuworks/anaconda3/envs/song/lib/python3.7/site-packages/torchvision/datasets/mnist.py:80: UserWarning: test_data has been renamed data\n",
      "  warnings.warn(\"test_data has been renamed data\")\n",
      "/compuworks/anaconda3/envs/song/lib/python3.7/site-packages/torchvision/datasets/mnist.py:70: UserWarning: test_labels has been renamed targets\n",
      "  warnings.warn(\"test_labels has been renamed targets\")\n"
     ]
    },
    {
     "name": "stdout",
     "output_type": "stream",
     "text": [
      "[Epoch:    1] / cost = 0.222199872 / accuracy = 0.970899999\n",
      "[Epoch:    2] / cost = 0.0611527525 / accuracy = 0.973800004\n",
      "[Epoch:    3] / cost = 0.0451639406 / accuracy = 0.973399997\n",
      "[Epoch:    4] / cost = 0.0365397893 / accuracy = 0.983199954\n",
      "[Epoch:    5] / cost = 0.0297157895 / accuracy = 0.982599974\n",
      "[Epoch:    6] / cost = 0.0251050368 / accuracy = 0.987599969\n",
      "[Epoch:    7] / cost = 0.0200132634 / accuracy = 0.983500004\n",
      "[Epoch:    8] / cost = 0.0175184682 / accuracy = 0.980399966\n",
      "[Epoch:    9] / cost = 0.0154126724 / accuracy = 0.984499991\n",
      "[Epoch:   10] / cost = 0.013027492 / accuracy = 0.986299992\n",
      "[Epoch:   11] / cost = 0.010158523 / accuracy = 0.982799947\n",
      "[Epoch:   12] / cost = 0.00917652436 / accuracy = 0.986599982\n",
      "[Epoch:   13] / cost = 0.00833513401 / accuracy = 0.987199962\n",
      "[Epoch:   14] / cost = 0.00752786966 / accuracy = 0.987699986\n",
      "[Epoch:   15] / cost = 0.00589307211 / accuracy = 0.988899946\n",
      "[Epoch:   16] / cost = 0.00517766783 / accuracy = 0.984200001\n",
      "[Epoch:   17] / cost = 0.00414601713 / accuracy = 0.983099997\n",
      "[Epoch:   18] / cost = 0.00537218479 / accuracy = 0.986199975\n",
      "[Epoch:   19] / cost = 0.00369130401 / accuracy = 0.985499978\n",
      "[Epoch:   20] / cost = 0.00324812299 / accuracy = 0.983699977\n"
     ]
    }
   ],
   "source": [
    "# 모델 train\n",
    "for epoch in range(training_epochs):\n",
    "    avg_cost = 0\n",
    "    \n",
    "    # X = images, Y = labels\n",
    "    for X, Y in data_loader: # 미니 배치 단위로 꺼내온다. X는 미니 배치, Y는 레이블.\n",
    "        # image is already size of (28x28), no reshape\n",
    "        # label is not one-hot encoded\n",
    "        X = X.to(device).cuda()\n",
    "        Y = Y.to(device).cuda()\n",
    "        \n",
    "        #forward\n",
    "        hypothesis = model(X).cuda()\n",
    "        cost = criterion(hypothesis, Y)\n",
    "        optimizer.zero_grad()    \n",
    "        \n",
    "        #backward\n",
    "        cost.backward()\n",
    "        \n",
    "        # update\n",
    "        optimizer.step()\n",
    "\n",
    "        avg_cost += cost / total_batch\n",
    "\n",
    "    # 학습을 진행하지 않을 것이므로 torch.no_grad()\n",
    "    with torch.no_grad():\n",
    "        X_test = mnist_test.test_data.view(len(mnist_test), 1, 28, 28).float().to(device)\n",
    "        Y_test = mnist_test.test_labels.to(device)\n",
    "\n",
    "        prediction = model(X_test)\n",
    "        correct_prediction = torch.argmax(prediction, 1) == Y_test\n",
    "        accuracy = correct_prediction.float().mean()\n",
    "        # print('Accuracy:', accuracy.item())\n",
    "        \n",
    "        accuracy_list.append(accuracy)\n",
    "        cost_list.append(avg_cost)\n",
    "    \n",
    "    \n",
    "    print('[Epoch: {:>4}] / cost = {:>.9} / accuracy = {:>.9}'.format(epoch + 1, avg_cost, accuracy))"
   ]
  },
  {
   "cell_type": "code",
   "execution_count": 34,
   "id": "aedd561d",
   "metadata": {
    "ExecuteTime": {
     "end_time": "2022-03-17T05:32:25.882794Z",
     "start_time": "2022-03-17T05:32:25.483984Z"
    }
   },
   "outputs": [],
   "source": [
    "import matplotlib.pyplot as plt"
   ]
  },
  {
   "cell_type": "code",
   "execution_count": 35,
   "id": "d7ff6639",
   "metadata": {
    "ExecuteTime": {
     "end_time": "2022-03-17T05:32:26.094650Z",
     "start_time": "2022-03-17T05:32:26.088574Z"
    }
   },
   "outputs": [
    {
     "data": {
      "text/plain": [
       "[array(0.22219987, dtype=float32),\n",
       " array(0.06115275, dtype=float32),\n",
       " array(0.04516394, dtype=float32),\n",
       " array(0.03653979, dtype=float32),\n",
       " array(0.02971579, dtype=float32),\n",
       " array(0.02510504, dtype=float32),\n",
       " array(0.02001326, dtype=float32),\n",
       " array(0.01751847, dtype=float32),\n",
       " array(0.01541267, dtype=float32),\n",
       " array(0.01302749, dtype=float32),\n",
       " array(0.01015852, dtype=float32),\n",
       " array(0.00917652, dtype=float32),\n",
       " array(0.00833513, dtype=float32),\n",
       " array(0.00752787, dtype=float32),\n",
       " array(0.00589307, dtype=float32),\n",
       " array(0.00517767, dtype=float32),\n",
       " array(0.00414602, dtype=float32),\n",
       " array(0.00537218, dtype=float32),\n",
       " array(0.0036913, dtype=float32),\n",
       " array(0.00324812, dtype=float32)]"
      ]
     },
     "execution_count": 35,
     "metadata": {},
     "output_type": "execute_result"
    }
   ],
   "source": [
    "cost_list_arr = []\n",
    "for cost in cost_list:\n",
    "    cost_list_arr.append(cost.detach().cpu().numpy())\n",
    "cost_list_arr"
   ]
  },
  {
   "cell_type": "code",
   "execution_count": 36,
   "id": "fff1af28",
   "metadata": {
    "ExecuteTime": {
     "end_time": "2022-03-17T05:32:26.259784Z",
     "start_time": "2022-03-17T05:32:26.253944Z"
    }
   },
   "outputs": [
    {
     "data": {
      "text/plain": [
       "[array(0.9709, dtype=float32),\n",
       " array(0.9738, dtype=float32),\n",
       " array(0.9734, dtype=float32),\n",
       " array(0.98319995, dtype=float32),\n",
       " array(0.9826, dtype=float32),\n",
       " array(0.98759997, dtype=float32),\n",
       " array(0.9835, dtype=float32),\n",
       " array(0.98039997, dtype=float32),\n",
       " array(0.9845, dtype=float32),\n",
       " array(0.9863, dtype=float32),\n",
       " array(0.98279995, dtype=float32),\n",
       " array(0.9866, dtype=float32),\n",
       " array(0.98719996, dtype=float32),\n",
       " array(0.9877, dtype=float32),\n",
       " array(0.98889995, dtype=float32),\n",
       " array(0.9842, dtype=float32),\n",
       " array(0.9831, dtype=float32),\n",
       " array(0.9862, dtype=float32),\n",
       " array(0.9855, dtype=float32),\n",
       " array(0.9837, dtype=float32)]"
      ]
     },
     "execution_count": 36,
     "metadata": {},
     "output_type": "execute_result"
    }
   ],
   "source": [
    "accuracy_list_arr = []\n",
    "for accuracy in accuracy_list:\n",
    "    accuracy_list_arr.append(accuracy.detach().cpu().numpy())\n",
    "accuracy_list_arr"
   ]
  },
  {
   "cell_type": "code",
   "execution_count": 37,
   "id": "ea9695ee",
   "metadata": {
    "ExecuteTime": {
     "end_time": "2022-03-17T05:32:26.432382Z",
     "start_time": "2022-03-17T05:32:26.428346Z"
    }
   },
   "outputs": [
    {
     "data": {
      "text/plain": [
       "20"
      ]
     },
     "execution_count": 37,
     "metadata": {},
     "output_type": "execute_result"
    }
   ],
   "source": [
    "len(accuracy_list_arr)"
   ]
  },
  {
   "cell_type": "code",
   "execution_count": 38,
   "id": "1e1a6496",
   "metadata": {
    "ExecuteTime": {
     "end_time": "2022-03-17T05:32:26.726521Z",
     "start_time": "2022-03-17T05:32:26.600211Z"
    }
   },
   "outputs": [
    {
     "data": {
      "image/png": "[encoded data removed]",
      "text/plain": [
       "<Figure size 720x360 with 2 Axes>"
      ]
     },
     "metadata": {
      "needs_background": "light"
     },
     "output_type": "display_data"
    }
   ],
   "source": [
    "x = np.arange(0,training_epochs)\n",
    "\n",
    "plt.figure(figsize=(10,5)) \n",
    "plt.subplot(1,2,1) \n",
    "plt.xlabel('Epoch') \n",
    "plt.ylabel('Cost') \n",
    "plt.plot(x,cost_list_arr) \n",
    "\n",
    "plt.subplot(1,2,2) \n",
    "plt.xlabel('Epoch') \n",
    "plt.ylabel('Accuracy') \n",
    "plt.plot(x, accuracy_list_arr) \n",
    "\n",
    "plt.show()"
   ]
  },
  {
   "cell_type": "code",
   "execution_count": 92,
   "id": "fd52be72",
   "metadata": {
    "ExecuteTime": {
     "end_time": "2022-03-17T05:58:59.389188Z",
     "start_time": "2022-03-17T05:58:59.381685Z"
    }
   },
   "outputs": [
    {
     "data": {
      "text/plain": [
       "3390"
      ]
     },
     "execution_count": 92,
     "metadata": {},
     "output_type": "execute_result"
    }
   ],
   "source": [
    "import random\n",
    "\n",
    "r = random.randint(0, len(mnist_test) - 1)\n",
    "r"
   ]
  },
  {
   "cell_type": "code",
   "execution_count": 72,
   "id": "dd7360a4",
   "metadata": {
    "ExecuteTime": {
     "end_time": "2022-03-17T05:54:02.389893Z",
     "start_time": "2022-03-17T05:54:02.372692Z"
    }
   },
   "outputs": [],
   "source": [
    "X_single_data = mnist_test.test_data.view(len(mnist_test), 1, 28, 28).float().to(device)\n",
    "Y_single_data = mnist_test.test_labels.to(device)"
   ]
  },
  {
   "cell_type": "code",
   "execution_count": 93,
   "id": "5c4d24b5",
   "metadata": {
    "ExecuteTime": {
     "end_time": "2022-03-17T05:59:02.845788Z",
     "start_time": "2022-03-17T05:59:02.821468Z"
    },
    "scrolled": true
   },
   "outputs": [
    {
     "data": {
      "text/plain": [
       "tensor([[[  0.,   0.,   0.,   0.,   0.,   0.,   0.,   0.,   0.,   0.,   0.,\n",
       "            0.,   0.,   0.,   0.,   0.,   0.,   0.,   0.,   0.,   0.,   0.,\n",
       "            0.,   0.,   0.,   0.,   0.,   0.],\n",
       "         [  0.,   0.,   0.,   0.,   0.,   0.,   0.,   0.,   0.,   0.,   0.,\n",
       "            0.,   0.,   0.,   0.,   0.,   0.,   0.,   0.,   0.,   0.,   0.,\n",
       "            0.,   0.,   0.,   0.,   0.,   0.],\n",
       "         [  0.,   0.,   0.,   0.,   0.,   0.,   0.,   0.,   0.,   0.,   0.,\n",
       "            0.,   0.,   0.,   0.,   0.,   0.,   0.,   0.,   0.,   0.,   0.,\n",
       "            0.,   0.,   0.,   0.,   0.,   0.],\n",
       "         [  0.,   0.,   0.,   0.,   0.,   0.,   0.,   0.,   0.,   0.,   0.,\n",
       "            0.,   0.,   0.,   0.,   0.,   0.,   0.,   0.,   0.,   0.,   0.,\n",
       "            0.,   0.,   0.,   0.,   0.,   0.],\n",
       "         [  0.,   0.,   0.,   0.,   0.,   0.,   0.,   0.,  90., 166., 187.,\n",
       "          159., 159., 159., 102.,   8.,   0.,   0.,   0.,   0.,   0.,   0.,\n",
       "            0.,   0.,   0.,   0.,   0.,   0.],\n",
       "         [  0.,   0.,   0.,   0.,   0.,   0.,   0.,   0., 155., 253., 253.,\n",
       "          253., 253., 253., 254.,  77.,   0.,   0.,   0.,   0.,   0.,   0.,\n",
       "            0.,   0.,   0.,   0.,   0.,   0.],\n",
       "         [  0.,   0.,   0.,   0.,   0.,   0.,   0.,  28., 241., 252., 243.,\n",
       "          243., 248., 253., 254., 194.,   0.,   0.,   0.,   0.,   0.,   0.,\n",
       "            0.,   0.,   0.,   0.,   0.,   0.],\n",
       "         [  0.,   0.,   0.,   0.,   0.,   0.,   0.,   0.,  78.,  78.,   0.,\n",
       "            0.,  41., 209., 254., 215.,   0.,   0.,   0.,   0.,   0.,   0.,\n",
       "            0.,   0.,   0.,   0.,   0.,   0.],\n",
       "         [  0.,   0.,   0.,   0.,   0.,   0.,   0.,   0.,   0.,   0.,   0.,\n",
       "            0., 173., 224., 254., 243.,  42.,   0.,   0.,   0.,   0.,   0.,\n",
       "            0.,   0.,   0.,   0.,   0.,   0.],\n",
       "         [  0.,   0.,   0.,   0.,   0.,   0.,   0.,   0.,   0.,   0.,   0.,\n",
       "            5.,  98., 253., 254., 208.,   0.,   0.,   0.,   0.,   0.,   0.,\n",
       "            0.,   0.,   0.,   0.,   0.,   0.],\n",
       "         [  0.,   0.,   0.,   0.,   0.,   0.,   0.,   0.,   0.,   0.,   0.,\n",
       "          154., 253., 253., 254., 122.,   0.,   0.,   0.,   0.,   0.,   0.,\n",
       "            0.,   0.,   0.,   0.,   0.,   0.],\n",
       "         [  0.,   0.,   0.,   0.,   0.,   0.,   0.,   0.,   0.,   0.,  51.,\n",
       "          249., 253., 253., 254., 108.,   0.,   0.,   0.,   0.,   0.,   0.,\n",
       "            0.,   0.,   0.,   0.,   0.,   0.],\n",
       "         [  0.,   0.,   0.,   0.,   0.,   0.,   0.,   0.,   0.,   0.,  85.,\n",
       "          253., 253., 253., 254., 247., 105.,  10.,   0.,   0.,   0.,   0.,\n",
       "            0.,   0.,   0.,   0.,   0.,   0.],\n",
       "         [  0.,   0.,   0.,   0.,   0.,   0.,   0.,   0.,   0.,   0.,  54.,\n",
       "          249., 253., 253., 254., 253., 253., 153.,   0.,   0.,   0.,   0.,\n",
       "            0.,   0.,   0.,   0.,   0.,   0.],\n",
       "         [  0.,   0.,   0.,   0.,   0.,   0.,   0.,   0.,   0.,   0.,   0.,\n",
       "           56., 105., 237., 255., 254., 254., 254., 184.,  12.,   0.,   0.,\n",
       "            0.,   0.,   0.,   0.,   0.,   0.],\n",
       "         [  0.,   0.,   0.,   0.,   0.,   0.,   0.,   0.,   0.,   0.,   0.,\n",
       "            0.,   0.,  21.,  87., 224., 253., 253., 253., 144.,   0.,   0.,\n",
       "            0.,   0.,   0.,   0.,   0.,   0.],\n",
       "         [  0.,   0.,   0.,   0.,   0.,   0.,   0.,   0.,   0.,   0.,   0.,\n",
       "            0.,   0.,   0.,   0.,  43., 226., 253., 253., 234.,   0.,   0.,\n",
       "            0.,   0.,   0.,   0.,   0.,   0.],\n",
       "         [  0.,   0.,   0.,   0.,   0.,   0.,   0.,   0.,   0.,   0.,   0.,\n",
       "            0.,   0.,   0.,   0.,   0.,  38., 228., 253., 234.,   0.,   0.,\n",
       "            0.,   0.,   0.,   0.,   0.,   0.],\n",
       "         [  0.,   0.,   0.,   0.,   0.,   0.,   0.,   0.,   0.,   0.,   0.,\n",
       "            0.,   0.,   0.,   0.,   0.,  23., 216., 253., 234.,   0.,   0.,\n",
       "            0.,   0.,   0.,   0.,   0.,   0.],\n",
       "         [  0.,   0.,   0.,   0.,   0.,   0.,   0.,   0.,   0.,   0.,   0.,\n",
       "            0.,   0.,   0.,   0.,  66., 205., 253., 253., 150.,   0.,   0.,\n",
       "            0.,   0.,   0.,   0.,   0.,   0.],\n",
       "         [  0.,   0.,   0.,   0.,   0.,   0.,   0.,   0.,  16.,  85.,  85.,\n",
       "           85.,  54.,  85., 179., 245., 253., 253., 237.,  31.,   0.,   0.,\n",
       "            0.,   0.,   0.,   0.,   0.,   0.],\n",
       "         [  0.,   0.,   0.,   0.,   0.,   0.,   0.,   0.,  48., 253., 253.,\n",
       "          253., 249., 253., 254., 253., 253., 253., 164.,   0.,   0.,   0.,\n",
       "            0.,   0.,   0.,   0.,   0.,   0.],\n",
       "         [  0.,   0.,   0.,   0.,   0.,   0.,   0.,   0.,  48., 253., 253.,\n",
       "          253., 253., 253., 254., 253., 252., 168.,   3.,   0.,   0.,   0.,\n",
       "            0.,   0.,   0.,   0.,   0.,   0.],\n",
       "         [  0.,   0.,   0.,   0.,   0.,   0.,   0.,   0.,  13., 114., 253.,\n",
       "          253., 253., 253., 229., 111.,  63.,   0.,   0.,   0.,   0.,   0.,\n",
       "            0.,   0.,   0.,   0.,   0.,   0.],\n",
       "         [  0.,   0.,   0.,   0.,   0.,   0.,   0.,   0.,   0.,   0.,   0.,\n",
       "            0.,   0.,   0.,   0.,   0.,   0.,   0.,   0.,   0.,   0.,   0.,\n",
       "            0.,   0.,   0.,   0.,   0.,   0.],\n",
       "         [  0.,   0.,   0.,   0.,   0.,   0.,   0.,   0.,   0.,   0.,   0.,\n",
       "            0.,   0.,   0.,   0.,   0.,   0.,   0.,   0.,   0.,   0.,   0.,\n",
       "            0.,   0.,   0.,   0.,   0.,   0.],\n",
       "         [  0.,   0.,   0.,   0.,   0.,   0.,   0.,   0.,   0.,   0.,   0.,\n",
       "            0.,   0.,   0.,   0.,   0.,   0.,   0.,   0.,   0.,   0.,   0.,\n",
       "            0.,   0.,   0.,   0.,   0.,   0.],\n",
       "         [  0.,   0.,   0.,   0.,   0.,   0.,   0.,   0.,   0.,   0.,   0.,\n",
       "            0.,   0.,   0.,   0.,   0.,   0.,   0.,   0.,   0.,   0.,   0.,\n",
       "            0.,   0.,   0.,   0.,   0.,   0.]]], device='cuda:0')"
      ]
     },
     "execution_count": 93,
     "metadata": {},
     "output_type": "execute_result"
    }
   ],
   "source": [
    "X_single_data[r]"
   ]
  },
  {
   "cell_type": "code",
   "execution_count": 95,
   "id": "dc6c5acf",
   "metadata": {
    "ExecuteTime": {
     "end_time": "2022-03-17T05:59:11.491853Z",
     "start_time": "2022-03-17T05:59:11.484306Z"
    },
    "scrolled": true
   },
   "outputs": [
    {
     "data": {
      "text/plain": [
       "tensor(3, device='cuda:0')"
      ]
     },
     "execution_count": 95,
     "metadata": {},
     "output_type": "execute_result"
    }
   ],
   "source": [
    "Y_single_data[r]"
   ]
  },
  {
   "cell_type": "code",
   "execution_count": 94,
   "id": "314a53bc",
   "metadata": {
    "ExecuteTime": {
     "end_time": "2022-03-17T05:59:09.447127Z",
     "start_time": "2022-03-17T05:59:09.345122Z"
    }
   },
   "outputs": [
    {
     "data": {
      "image/png": "[encoded data removed]",
      "text/plain": [
       "<Figure size 432x288 with 1 Axes>"
      ]
     },
     "metadata": {
      "needs_background": "light"
     },
     "output_type": "display_data"
    }
   ],
   "source": [
    "plt.imshow(mnist_test.test_data[r].view(28, 28), cmap='Greys', interpolation='nearest')\n",
    "plt.show()"
   ]
  },
  {
   "cell_type": "code",
   "execution_count": 96,
   "id": "b2aacefb",
   "metadata": {
    "ExecuteTime": {
     "end_time": "2022-03-17T05:59:18.044971Z",
     "start_time": "2022-03-17T05:59:18.021809Z"
    }
   },
   "outputs": [
    {
     "name": "stdout",
     "output_type": "stream",
     "text": [
      "Label:  3\n",
      "Prediction:  3\n"
     ]
    }
   ],
   "source": [
    "print('Label: ', Y_single_data[r].item())\n",
    "single_prediction = model(X_single_data)\n",
    "correct_prediction = torch.argmax(single_prediction, 1)\n",
    "print('Prediction: ', correct_prediction[r].item())"
   ]
  },
  {
   "cell_type": "code",
   "execution_count": null,
   "id": "7d6371ff",
   "metadata": {},
   "outputs": [],
   "source": []
  }
 ],
 "metadata": {
  "hide_input": false,
  "kernelspec": {
   "display_name": "Python 3 (ipykernel)",
   "language": "python",
   "name": "python3"
  },
  "language_info": {
   "codemirror_mode": {
    "name": "ipython",
    "version": 3
   },
   "file_extension": ".py",
   "mimetype": "text/x-python",
   "name": "python",
   "nbconvert_exporter": "python",
   "pygments_lexer": "ipython3",
   "version": "3.7.11"
  },
  "toc": {
   "base_numbering": 1,
   "nav_menu": {},
   "number_sections": true,
   "sideBar": true,
   "skip_h1_title": false,
   "title_cell": "Table of Contents",
   "title_sidebar": "Contents",
   "toc_cell": false,
   "toc_position": {},
   "toc_section_display": true,
   "toc_window_display": false
  },
  "varInspector": {
   "cols": {
    "lenName": 16,
    "lenType": 16,
    "lenVar": 40
   },
   "kernels_config": {
    "python": {
     "delete_cmd_postfix": "",
     "delete_cmd_prefix": "del ",
     "library": "var_list.py",
     "varRefreshCmd": "print(var_dic_list())"
    },
    "r": {
     "delete_cmd_postfix": ") ",
     "delete_cmd_prefix": "rm(",
     "library": "var_list.r",
     "varRefreshCmd": "cat(var_dic_list()) "
    }
   },
   "types_to_exclude": [
    "module",
    "function",
    "builtin_function_or_method",
    "instance",
    "_Feature"
   ],
   "window_display": false
  }
 },
 "nbformat": 4,
 "nbformat_minor": 5
}
